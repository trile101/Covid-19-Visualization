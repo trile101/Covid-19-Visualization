{
 "cells": [
  {
   "cell_type": "markdown",
   "id": "1c2e9343",
   "metadata": {},
   "source": [
    "# II. Tiến Hành Quá Trình Tiền Xử Lí Dữ Liệu\n",
    "\n",
    "---"
   ]
  },
  {
   "cell_type": "markdown",
   "id": "f72a3390",
   "metadata": {},
   "source": [
    "####  Import thư viện"
   ]
  },
  {
   "cell_type": "code",
   "execution_count": 1,
   "id": "6979e573",
   "metadata": {},
   "outputs": [],
   "source": [
    "import numpy as np\n",
    "import pandas as pd\n",
    "import math"
   ]
  },
  {
   "cell_type": "markdown",
   "id": "d2937143",
   "metadata": {},
   "source": [
    "### 1. Kiểm tra tổng quan về tập dữ liệu"
   ]
  },
  {
   "cell_type": "code",
   "execution_count": 2,
   "id": "9c441ac1",
   "metadata": {},
   "outputs": [
    {
     "data": {
      "text/plain": [
       "(227, 21)"
      ]
     },
     "execution_count": 2,
     "metadata": {},
     "output_type": "execute_result"
    }
   ],
   "source": [
    "data_covid = pd.read_csv(\"Data\\Covid.csv\")\n",
    "data_covid.shape"
   ]
  },
  {
   "cell_type": "markdown",
   "id": "286b7a5a",
   "metadata": {},
   "source": [
    "Dữ liệu được thu thập từ ngày ```29/11/2021``` đến ```5/12/2021```, Tập dữ liệu data covid có 1568 mẫu và 22 thuộc tính, "
   ]
  },
  {
   "cell_type": "markdown",
   "id": "dae6c65a",
   "metadata": {},
   "source": [
    "#### Tóm tắt thông tin về các thuộc tính có trong dữ liệu "
   ]
  },
  {
   "cell_type": "markdown",
   "id": "6c29f7a9",
   "metadata": {},
   "source": [
    "\n",
    "|Thuộc tính|Kiểu dữ liệu|     Ý nghĩa   \n",
    "|:--------:|:-------------:|:-----:\n",
    "|**Date**|Chuỗi |Ngày của thông tin|\n",
    "|**Country,Other**|Chuỗi|Đất nước lấy thông tin|\n",
    "|**TotalCases**|Số nguyên|Số lượng toàn bộ người bị nhiễm|\n",
    "|**NewCases**|Số nguyên|Số lượng ca nhiễm mới trong ngày|\n",
    "|**TotalDeaths**|Số nguyên|Tổng số lượng ca tử vong do Covid-19|\n",
    "|**NewDeaths**|Số nguyên|Số lượng ca tử vong được phát hiện trong ngày|\n",
    "|**TotalRecovered**|Số nguyên|Tổng số lượng ca hồi phục khi bị nhiễm Covid-19|\n",
    "|**NewRecovered**|Số nguyên|Số lượng ca phục hồi trong ngày|\n",
    "|**ActiveCases**|Số nguyên|Số lượng người bị nhiễm và chưa khỏi bệnh|   \n",
    "|**Serious,Critical**|Số nguyên|Số lượng ca nhiễm Covid-19 đang trong nguy kịch|   \n",
    "|**Tot Cases/1M pop**|Số nguyên|Tổng số ca được xác nhận nhiễm trên 1 triệu dân số|\n",
    "|**Deaths/1M pop**|Số nguyên|Tổng số ca tư vong trên 1 triệu dân số|\n",
    "|**TotalTests**|Số nguyên|Tổng số lượng được xác nghiệm Covid-19|\n",
    "|**Tests/1M pop**|Số nguyên|Tổng số lượng được xác nghiệm Covid-19 trên 1 triệu dân số|   \n",
    "|**Population**|Số nguyên|Tổng số dân số của đất nước|   \n",
    "|**Continent**|Chuỗi|Tên châu lục|\n",
    "|**1Case every X ppl**|Số nguyên|     \n",
    "|**1Death every X ppl**|Số nguyên|       \n",
    "|**1 Testevery X ppl**|Số nguyên||   \n",
    "|**New Cases/1M pop**|Số nguyên|Tổng số lượng được ca nhiễm Covid-19 mới trên 1 triệu dân số| \n",
    "|**New Deaths/1M pop**|Số nguyên|Tổng số lượng được ca tử vong mới trên 1 triệu dân số| \n",
    "|**Active Cases/1M pop**|Số nguyên|Tổng số lương ca nhiễm chưa khỏi bệnh trên 1 triệu dân số|"
   ]
  },
  {
   "cell_type": "markdown",
   "id": "34a24367",
   "metadata": {},
   "source": [
    "#### Kiểm tra số lượng nước và châu lục"
   ]
  },
  {
   "cell_type": "code",
   "execution_count": 3,
   "id": "f9bb6ecb",
   "metadata": {},
   "outputs": [
    {
     "name": "stdout",
     "output_type": "stream",
     "text": [
      "Số lượng quốc gia và tàu: 227\n",
      "\n",
      "['China' 'USA' 'India' 'Brazil' 'France' 'UK' 'Russia' 'Germany' 'Turkey'\n",
      " 'Italy' 'Spain' 'Argentina' 'Netherlands' 'Iran' 'S. Korea' 'Vietnam'\n",
      " 'Colombia' 'Indonesia' 'Poland' 'Japan' 'Mexico' 'Ukraine' 'Malaysia'\n",
      " 'Israel' 'South Africa' 'Czechia' 'Philippines' 'Belgium' 'Australia'\n",
      " 'Peru' 'Portugal' 'Canada' 'Chile' 'Thailand' 'Austria' 'Switzerland'\n",
      " 'Denmark' 'Romania' 'Greece' 'Sweden' 'Iraq' 'Bangladesh' 'Serbia'\n",
      " 'Hungary' 'Jordan' 'Georgia' 'Slovakia' 'Pakistan' 'Norway' 'Ireland'\n",
      " 'Kazakhstan' 'Morocco' 'Bulgaria' 'Lebanon' 'Cuba' 'Croatia' 'Tunisia'\n",
      " 'Nepal' 'Lithuania' 'Belarus' 'Singapore' 'Slovenia' 'Bolivia' 'UAE'\n",
      " 'Uruguay' 'Ecuador' 'Costa Rica' 'Guatemala' 'Azerbaijan' 'Panama'\n",
      " 'Saudi Arabia' 'Latvia' 'Finland' 'Hong Kong' 'Sri Lanka' 'Paraguay'\n",
      " 'Kuwait' 'Myanmar' 'Palestine' 'Dominican Republic' 'Bahrain' 'Estonia'\n",
      " 'Venezuela' 'Moldova' 'Libya' 'Egypt' 'Ethiopia' 'Mongolia' 'Armenia'\n",
      " 'Honduras' 'Oman' 'Bosnia and Herzegovina' 'New Zealand' 'Qatar' 'Cyprus'\n",
      " 'Kenya' 'Zambia' 'Réunion' 'North Macedonia' 'Albania' 'Algeria'\n",
      " 'Botswana' 'Nigeria' 'Zimbabwe' 'Uzbekistan' 'Montenegro' 'Mozambique'\n",
      " 'Kyrgyzstan' 'Luxembourg' 'Afghanistan' 'Maldives' 'Uganda' 'Iceland'\n",
      " 'Ghana' 'Namibia' 'El Salvador' 'Laos' 'Cambodia' 'Trinidad and Tobago'\n",
      " 'Guadeloupe' 'Rwanda' 'Jamaica' 'Martinique' 'Cameroon' 'Brunei '\n",
      " 'Angola' 'DRC' 'Senegal' 'Malawi' 'Ivory Coast' 'Suriname'\n",
      " 'French Guiana' 'Malta' 'French Polynesia' 'Eswatini' 'Fiji' 'Madagascar'\n",
      " 'Guyana' 'Sudan' 'New Caledonia' 'Mauritania' 'Belize' 'Barbados'\n",
      " 'Channel Islands' 'Cabo Verde' 'Syria' 'Gabon' 'Papua New Guinea'\n",
      " 'Seychelles' 'Curaçao' 'Andorra' 'Burundi' 'Togo' 'Mayotte' 'Guinea'\n",
      " 'Faeroe Islands' 'Mauritius' 'Aruba' 'Tanzania' 'Bahamas' 'Lesotho'\n",
      " 'Haiti' 'Mali' 'Benin' 'Somalia' 'Isle of Man' 'Congo' 'Saint Lucia'\n",
      " 'Timor-Leste' 'Taiwan' 'Burkina Faso' 'Cayman Islands' 'Nicaragua'\n",
      " 'Bhutan' 'Tajikistan' 'South Sudan' 'Equatorial Guinea' 'Gibraltar'\n",
      " 'Djibouti' 'San Marino' 'CAR' 'Liechtenstein' 'Grenada' 'Gambia'\n",
      " 'Greenland' 'Bermuda' 'Yemen' 'Dominica' 'Saint Martin' 'Monaco'\n",
      " 'Eritrea' 'Sint Maarten' 'Solomon Islands' 'Niger' 'Guinea-Bissau'\n",
      " 'Comoros' 'Sierra Leone' 'Caribbean Netherlands' 'Antigua and Barbuda'\n",
      " 'Liberia' 'Chad' 'St. Vincent Grenadines' 'British Virgin Islands'\n",
      " 'Sao Tome and Principe' 'Turks and Caicos' 'Saint Kitts and Nevis'\n",
      " 'Palau' 'St. Barth' 'Kiribati' 'Anguilla' 'Tonga' 'Saint Pierre Miquelon'\n",
      " 'Diamond Princess' 'Wallis and Futuna' 'Cook Islands' 'Vanuatu'\n",
      " 'Montserrat' 'Falkland Islands' 'Macao' 'Samoa' 'Vatican City'\n",
      " 'Western Sahara' 'MS Zaandam' 'Marshall Islands' 'Saint Helena'\n",
      " 'Micronesia' 'Niue']\n"
     ]
    }
   ],
   "source": [
    "print(f\"Số lượng quốc gia và tàu: {data_covid['Country,Other'].nunique()}\\n\")\n",
    "print(data_covid['Country,Other'].unique())"
   ]
  },
  {
   "cell_type": "code",
   "execution_count": 4,
   "id": "da8e9cd2",
   "metadata": {},
   "outputs": [
    {
     "name": "stdout",
     "output_type": "stream",
     "text": [
      "Số lượng châu lục: 6\n",
      "\n",
      "['Asia' 'North America' 'South America' 'Europe' 'Africa'\n",
      " 'Australia/Oceania' nan]\n"
     ]
    }
   ],
   "source": [
    "print(f\"Số lượng châu lục: {data_covid['Continent'].nunique()}\\n\")\n",
    "print(data_covid['Continent'].unique())"
   ]
  },
  {
   "cell_type": "markdown",
   "id": "7295d121",
   "metadata": {},
   "source": [
    "### 2. Tiền xử lí dữ liệu"
   ]
  },
  {
   "cell_type": "code",
   "execution_count": 5,
   "id": "f2c296d5",
   "metadata": {
    "scrolled": true
   },
   "outputs": [
    {
     "data": {
      "text/html": [
       "<div>\n",
       "<style scoped>\n",
       "    .dataframe tbody tr th:only-of-type {\n",
       "        vertical-align: middle;\n",
       "    }\n",
       "\n",
       "    .dataframe tbody tr th {\n",
       "        vertical-align: top;\n",
       "    }\n",
       "\n",
       "    .dataframe thead th {\n",
       "        text-align: right;\n",
       "    }\n",
       "</style>\n",
       "<table border=\"1\" class=\"dataframe\">\n",
       "  <thead>\n",
       "    <tr style=\"text-align: right;\">\n",
       "      <th></th>\n",
       "      <th>Country,Other</th>\n",
       "      <th>TotalCases</th>\n",
       "      <th>NewCases</th>\n",
       "      <th>TotalDeaths</th>\n",
       "      <th>NewDeaths</th>\n",
       "      <th>TotalRecovered</th>\n",
       "      <th>NewRecovered</th>\n",
       "      <th>ActiveCases</th>\n",
       "      <th>Serious,Critical</th>\n",
       "      <th>Tot Cases/1M pop</th>\n",
       "      <th>...</th>\n",
       "      <th>TotalTests</th>\n",
       "      <th>Tests/1M pop</th>\n",
       "      <th>Population</th>\n",
       "      <th>Continent</th>\n",
       "      <th>1 Caseevery X ppl</th>\n",
       "      <th>1 Deathevery X ppl</th>\n",
       "      <th>1 Testevery X ppl</th>\n",
       "      <th>New Cases/1M pop</th>\n",
       "      <th>New Deaths/1M pop</th>\n",
       "      <th>Active Cases/1M pop</th>\n",
       "    </tr>\n",
       "  </thead>\n",
       "  <tbody>\n",
       "    <tr>\n",
       "      <th>0</th>\n",
       "      <td>China</td>\n",
       "      <td>115,466</td>\n",
       "      <td>+1,938</td>\n",
       "      <td>4,636</td>\n",
       "      <td>NaN</td>\n",
       "      <td>103,600</td>\n",
       "      <td>+169</td>\n",
       "      <td>7,230</td>\n",
       "      <td>6</td>\n",
       "      <td>80</td>\n",
       "      <td>...</td>\n",
       "      <td>160,000,000</td>\n",
       "      <td>111,163</td>\n",
       "      <td>1,439,323,776</td>\n",
       "      <td>Asia</td>\n",
       "      <td>12,465</td>\n",
       "      <td>310,467</td>\n",
       "      <td>9.0</td>\n",
       "      <td>1</td>\n",
       "      <td>NaN</td>\n",
       "      <td>5</td>\n",
       "    </tr>\n",
       "    <tr>\n",
       "      <th>1</th>\n",
       "      <td>USA</td>\n",
       "      <td>81,174,677</td>\n",
       "      <td>+5,143</td>\n",
       "      <td>993,811</td>\n",
       "      <td>118.0</td>\n",
       "      <td>56,071,103</td>\n",
       "      <td>+155,965</td>\n",
       "      <td>24,109,763</td>\n",
       "      <td>4,250</td>\n",
       "      <td>242,828</td>\n",
       "      <td>...</td>\n",
       "      <td>964,386,655</td>\n",
       "      <td>2,884,885</td>\n",
       "      <td>334,289,437</td>\n",
       "      <td>North America</td>\n",
       "      <td>4</td>\n",
       "      <td>336</td>\n",
       "      <td>0.0</td>\n",
       "      <td>15</td>\n",
       "      <td>0.40</td>\n",
       "      <td>72,122</td>\n",
       "    </tr>\n",
       "    <tr>\n",
       "      <th>2</th>\n",
       "      <td>India</td>\n",
       "      <td>42,993,494</td>\n",
       "      <td>+2,503</td>\n",
       "      <td>515,907</td>\n",
       "      <td>57.0</td>\n",
       "      <td>42,441,449</td>\n",
       "      <td>+4,377</td>\n",
       "      <td>36,138</td>\n",
       "      <td>8,944</td>\n",
       "      <td>30,644</td>\n",
       "      <td>...</td>\n",
       "      <td>778,520,151</td>\n",
       "      <td>554,906</td>\n",
       "      <td>1,402,976,534</td>\n",
       "      <td>Asia</td>\n",
       "      <td>33</td>\n",
       "      <td>2,719</td>\n",
       "      <td>2.0</td>\n",
       "      <td>2</td>\n",
       "      <td>0.04</td>\n",
       "      <td>26</td>\n",
       "    </tr>\n",
       "    <tr>\n",
       "      <th>3</th>\n",
       "      <td>Brazil</td>\n",
       "      <td>29,368,776</td>\n",
       "      <td>+18,397</td>\n",
       "      <td>655,139</td>\n",
       "      <td>146.0</td>\n",
       "      <td>27,742,324</td>\n",
       "      <td>+70,731</td>\n",
       "      <td>971,313</td>\n",
       "      <td>8,318</td>\n",
       "      <td>136,524</td>\n",
       "      <td>...</td>\n",
       "      <td>63,776,166</td>\n",
       "      <td>296,471</td>\n",
       "      <td>215,117,939</td>\n",
       "      <td>South America</td>\n",
       "      <td>7</td>\n",
       "      <td>328</td>\n",
       "      <td>3.0</td>\n",
       "      <td>86</td>\n",
       "      <td>0.70</td>\n",
       "      <td>4,515</td>\n",
       "    </tr>\n",
       "    <tr>\n",
       "      <th>4</th>\n",
       "      <td>France</td>\n",
       "      <td>23,514,144</td>\n",
       "      <td>+60,422</td>\n",
       "      <td>140,109</td>\n",
       "      <td>29.0</td>\n",
       "      <td>22,163,944</td>\n",
       "      <td>+17,144</td>\n",
       "      <td>1,210,091</td>\n",
       "      <td>1,928</td>\n",
       "      <td>358,895</td>\n",
       "      <td>...</td>\n",
       "      <td>246,629,975</td>\n",
       "      <td>3,764,303</td>\n",
       "      <td>65,518,106</td>\n",
       "      <td>Europe</td>\n",
       "      <td>3</td>\n",
       "      <td>468</td>\n",
       "      <td>0.0</td>\n",
       "      <td>922</td>\n",
       "      <td>0.40</td>\n",
       "      <td>18,470</td>\n",
       "    </tr>\n",
       "    <tr>\n",
       "      <th>...</th>\n",
       "      <td>...</td>\n",
       "      <td>...</td>\n",
       "      <td>...</td>\n",
       "      <td>...</td>\n",
       "      <td>...</td>\n",
       "      <td>...</td>\n",
       "      <td>...</td>\n",
       "      <td>...</td>\n",
       "      <td>...</td>\n",
       "      <td>...</td>\n",
       "      <td>...</td>\n",
       "      <td>...</td>\n",
       "      <td>...</td>\n",
       "      <td>...</td>\n",
       "      <td>...</td>\n",
       "      <td>...</td>\n",
       "      <td>...</td>\n",
       "      <td>...</td>\n",
       "      <td>...</td>\n",
       "      <td>...</td>\n",
       "      <td>...</td>\n",
       "    </tr>\n",
       "    <tr>\n",
       "      <th>125</th>\n",
       "      <td>Angola</td>\n",
       "      <td>98,927</td>\n",
       "      <td>+18</td>\n",
       "      <td>1,900</td>\n",
       "      <td>NaN</td>\n",
       "      <td>96,857</td>\n",
       "      <td>+6</td>\n",
       "      <td>170</td>\n",
       "      <td>NaN</td>\n",
       "      <td>2,860</td>\n",
       "      <td>...</td>\n",
       "      <td>1,463,343</td>\n",
       "      <td>42,299</td>\n",
       "      <td>34,595,276</td>\n",
       "      <td>Africa</td>\n",
       "      <td>350</td>\n",
       "      <td>18,208</td>\n",
       "      <td>24.0</td>\n",
       "      <td>0.5</td>\n",
       "      <td>NaN</td>\n",
       "      <td>5</td>\n",
       "    </tr>\n",
       "    <tr>\n",
       "      <th>126</th>\n",
       "      <td>DRC</td>\n",
       "      <td>86,315</td>\n",
       "      <td>NaN</td>\n",
       "      <td>1,335</td>\n",
       "      <td>NaN</td>\n",
       "      <td>50,930</td>\n",
       "      <td>NaN</td>\n",
       "      <td>34,050</td>\n",
       "      <td>NaN</td>\n",
       "      <td>917</td>\n",
       "      <td>...</td>\n",
       "      <td>846,704</td>\n",
       "      <td>8,992</td>\n",
       "      <td>94,166,412</td>\n",
       "      <td>Africa</td>\n",
       "      <td>1,091</td>\n",
       "      <td>70,537</td>\n",
       "      <td>111.0</td>\n",
       "      <td>NaN</td>\n",
       "      <td>NaN</td>\n",
       "      <td>362</td>\n",
       "    </tr>\n",
       "    <tr>\n",
       "      <th>127</th>\n",
       "      <td>Senegal</td>\n",
       "      <td>85,797</td>\n",
       "      <td>+12</td>\n",
       "      <td>1,964</td>\n",
       "      <td>NaN</td>\n",
       "      <td>83,781</td>\n",
       "      <td>+8</td>\n",
       "      <td>52</td>\n",
       "      <td>1</td>\n",
       "      <td>4,905</td>\n",
       "      <td>...</td>\n",
       "      <td>1,025,172</td>\n",
       "      <td>58,614</td>\n",
       "      <td>17,490,347</td>\n",
       "      <td>Africa</td>\n",
       "      <td>204</td>\n",
       "      <td>8,905</td>\n",
       "      <td>17.0</td>\n",
       "      <td>0.7</td>\n",
       "      <td>NaN</td>\n",
       "      <td>3</td>\n",
       "    </tr>\n",
       "    <tr>\n",
       "      <th>128</th>\n",
       "      <td>Malawi</td>\n",
       "      <td>85,499</td>\n",
       "      <td>+4</td>\n",
       "      <td>2,623</td>\n",
       "      <td>3.0</td>\n",
       "      <td>76,752</td>\n",
       "      <td>+21</td>\n",
       "      <td>6,124</td>\n",
       "      <td>67</td>\n",
       "      <td>4,282</td>\n",
       "      <td>...</td>\n",
       "      <td>553,978</td>\n",
       "      <td>27,746</td>\n",
       "      <td>19,966,197</td>\n",
       "      <td>Africa</td>\n",
       "      <td>234</td>\n",
       "      <td>7,612</td>\n",
       "      <td>36.0</td>\n",
       "      <td>0.2</td>\n",
       "      <td>0.20</td>\n",
       "      <td>307</td>\n",
       "    </tr>\n",
       "    <tr>\n",
       "      <th>129</th>\n",
       "      <td>Ivory Coast</td>\n",
       "      <td>81,597</td>\n",
       "      <td>+3</td>\n",
       "      <td>796</td>\n",
       "      <td>NaN</td>\n",
       "      <td>80,717</td>\n",
       "      <td>+22</td>\n",
       "      <td>84</td>\n",
       "      <td>NaN</td>\n",
       "      <td>2,969</td>\n",
       "      <td>...</td>\n",
       "      <td>1,446,043</td>\n",
       "      <td>52,615</td>\n",
       "      <td>27,483,361</td>\n",
       "      <td>Africa</td>\n",
       "      <td>337</td>\n",
       "      <td>34,527</td>\n",
       "      <td>19.0</td>\n",
       "      <td>0.1</td>\n",
       "      <td>NaN</td>\n",
       "      <td>3</td>\n",
       "    </tr>\n",
       "  </tbody>\n",
       "</table>\n",
       "<p>130 rows × 21 columns</p>\n",
       "</div>"
      ],
      "text/plain": [
       "    Country,Other  TotalCases NewCases TotalDeaths  NewDeaths TotalRecovered  \\\n",
       "0           China     115,466   +1,938      4,636         NaN        103,600   \n",
       "1             USA  81,174,677   +5,143    993,811       118.0     56,071,103   \n",
       "2           India  42,993,494   +2,503    515,907        57.0     42,441,449   \n",
       "3          Brazil  29,368,776  +18,397    655,139       146.0     27,742,324   \n",
       "4          France  23,514,144  +60,422    140,109        29.0     22,163,944   \n",
       "..            ...         ...      ...         ...        ...            ...   \n",
       "125        Angola      98,927      +18      1,900         NaN         96,857   \n",
       "126           DRC      86,315      NaN      1,335         NaN         50,930   \n",
       "127       Senegal      85,797      +12      1,964         NaN         83,781   \n",
       "128        Malawi      85,499       +4      2,623         3.0         76,752   \n",
       "129   Ivory Coast      81,597       +3        796         NaN         80,717   \n",
       "\n",
       "    NewRecovered ActiveCases Serious,Critical Tot Cases/1M pop  ...  \\\n",
       "0           +169       7,230                6               80  ...   \n",
       "1       +155,965  24,109,763            4,250          242,828  ...   \n",
       "2         +4,377      36,138            8,944           30,644  ...   \n",
       "3        +70,731     971,313            8,318          136,524  ...   \n",
       "4        +17,144   1,210,091            1,928          358,895  ...   \n",
       "..           ...         ...              ...              ...  ...   \n",
       "125           +6         170              NaN            2,860  ...   \n",
       "126          NaN      34,050              NaN              917  ...   \n",
       "127           +8          52                1            4,905  ...   \n",
       "128          +21       6,124               67            4,282  ...   \n",
       "129          +22          84              NaN            2,969  ...   \n",
       "\n",
       "      TotalTests Tests/1M pop      Population      Continent  \\\n",
       "0    160,000,000      111,163  1,439,323,776            Asia   \n",
       "1    964,386,655    2,884,885    334,289,437   North America   \n",
       "2    778,520,151      554,906  1,402,976,534            Asia   \n",
       "3     63,776,166      296,471    215,117,939   South America   \n",
       "4    246,629,975    3,764,303     65,518,106          Europe   \n",
       "..           ...          ...             ...            ...   \n",
       "125    1,463,343       42,299     34,595,276          Africa   \n",
       "126      846,704        8,992     94,166,412          Africa   \n",
       "127    1,025,172       58,614     17,490,347          Africa   \n",
       "128      553,978       27,746     19,966,197          Africa   \n",
       "129    1,446,043       52,615     27,483,361          Africa   \n",
       "\n",
       "    1 Caseevery X ppl 1 Deathevery X ppl 1 Testevery X ppl  New Cases/1M pop  \\\n",
       "0              12,465            310,467               9.0                 1   \n",
       "1                   4                336               0.0                15   \n",
       "2                  33              2,719               2.0                 2   \n",
       "3                   7                328               3.0                86   \n",
       "4                   3                468               0.0               922   \n",
       "..                ...                ...               ...               ...   \n",
       "125               350             18,208              24.0               0.5   \n",
       "126             1,091             70,537             111.0               NaN   \n",
       "127               204              8,905              17.0               0.7   \n",
       "128               234              7,612              36.0               0.2   \n",
       "129               337             34,527              19.0               0.1   \n",
       "\n",
       "    New Deaths/1M pop  Active Cases/1M pop  \n",
       "0                 NaN                    5  \n",
       "1                0.40               72,122  \n",
       "2                0.04                   26  \n",
       "3                0.70                4,515  \n",
       "4                0.40               18,470  \n",
       "..                ...                  ...  \n",
       "125               NaN                    5  \n",
       "126               NaN                  362  \n",
       "127               NaN                    3  \n",
       "128              0.20                  307  \n",
       "129               NaN                    3  \n",
       "\n",
       "[130 rows x 21 columns]"
      ]
     },
     "execution_count": 5,
     "metadata": {},
     "output_type": "execute_result"
    }
   ],
   "source": [
    "data_covid[0:130]"
   ]
  },
  {
   "cell_type": "markdown",
   "id": "cdd901ae",
   "metadata": {},
   "source": [
    "#### a. Kiểm tra bị null (missing value)"
   ]
  },
  {
   "cell_type": "code",
   "execution_count": 6,
   "id": "0773c8ce",
   "metadata": {},
   "outputs": [],
   "source": [
    "def checkMissingData():\n",
    "    for column in data_covid.columns:\n",
    "        count = 0\n",
    "        for i in data_covid[column]:\n",
    "            try:\n",
    "                if (np.isnan(i)):\n",
    "                    count = count + 1\n",
    "            except:\n",
    "                None\n",
    "        print(\"Số lượng thông tin bị thiếu trong thuộc tính \", column, \":\",count)\n",
    "        print(\"Chiếm tỉ lệ phần trăm:\", round(count/data_covid.shape[0] * 100, 3),\"%\")\n",
    "        print()"
   ]
  },
  {
   "cell_type": "code",
   "execution_count": 7,
   "id": "ba50ca94",
   "metadata": {},
   "outputs": [
    {
     "name": "stdout",
     "output_type": "stream",
     "text": [
      "Số lượng thông tin bị thiếu trong thuộc tính  Country,Other : 0\n",
      "Chiếm tỉ lệ phần trăm: 0.0 %\n",
      "\n",
      "Số lượng thông tin bị thiếu trong thuộc tính  TotalCases : 0\n",
      "Chiếm tỉ lệ phần trăm: 0.0 %\n",
      "\n",
      "Số lượng thông tin bị thiếu trong thuộc tính  NewCases : 93\n",
      "Chiếm tỉ lệ phần trăm: 40.969 %\n",
      "\n",
      "Số lượng thông tin bị thiếu trong thuộc tính  TotalDeaths : 0\n",
      "Chiếm tỉ lệ phần trăm: 0.0 %\n",
      "\n",
      "Số lượng thông tin bị thiếu trong thuộc tính  NewDeaths : 143\n",
      "Chiếm tỉ lệ phần trăm: 62.996 %\n",
      "\n",
      "Số lượng thông tin bị thiếu trong thuộc tính  TotalRecovered : 12\n",
      "Chiếm tỉ lệ phần trăm: 5.286 %\n",
      "\n",
      "Số lượng thông tin bị thiếu trong thuộc tính  NewRecovered : 115\n",
      "Chiếm tỉ lệ phần trăm: 50.661 %\n",
      "\n",
      "Số lượng thông tin bị thiếu trong thuộc tính  ActiveCases : 11\n",
      "Chiếm tỉ lệ phần trăm: 4.846 %\n",
      "\n",
      "Số lượng thông tin bị thiếu trong thuộc tính  Serious,Critical : 66\n",
      "Chiếm tỉ lệ phần trăm: 29.075 %\n",
      "\n",
      "Số lượng thông tin bị thiếu trong thuộc tính  Tot Cases/1M pop : 2\n",
      "Chiếm tỉ lệ phần trăm: 0.881 %\n",
      "\n",
      "Số lượng thông tin bị thiếu trong thuộc tính  Deaths/1M pop : 11\n",
      "Chiếm tỉ lệ phần trăm: 4.846 %\n",
      "\n",
      "Số lượng thông tin bị thiếu trong thuộc tính  TotalTests : 16\n",
      "Chiếm tỉ lệ phần trăm: 7.048 %\n",
      "\n",
      "Số lượng thông tin bị thiếu trong thuộc tính  Tests/1M pop : 16\n",
      "Chiếm tỉ lệ phần trăm: 7.048 %\n",
      "\n",
      "Số lượng thông tin bị thiếu trong thuộc tính  Population : 0\n",
      "Chiếm tỉ lệ phần trăm: 0.0 %\n",
      "\n",
      "Số lượng thông tin bị thiếu trong thuộc tính  Continent : 2\n",
      "Chiếm tỉ lệ phần trăm: 0.881 %\n",
      "\n",
      "Số lượng thông tin bị thiếu trong thuộc tính  1 Caseevery X ppl : 2\n",
      "Chiếm tỉ lệ phần trăm: 0.881 %\n",
      "\n",
      "Số lượng thông tin bị thiếu trong thuộc tính  1 Deathevery X ppl : 11\n",
      "Chiếm tỉ lệ phần trăm: 4.846 %\n",
      "\n",
      "Số lượng thông tin bị thiếu trong thuộc tính  1 Testevery X ppl : 16\n",
      "Chiếm tỉ lệ phần trăm: 7.048 %\n",
      "\n",
      "Số lượng thông tin bị thiếu trong thuộc tính  New Cases/1M pop : 93\n",
      "Chiếm tỉ lệ phần trăm: 40.969 %\n",
      "\n",
      "Số lượng thông tin bị thiếu trong thuộc tính  New Deaths/1M pop : 143\n",
      "Chiếm tỉ lệ phần trăm: 62.996 %\n",
      "\n",
      "Số lượng thông tin bị thiếu trong thuộc tính  Active Cases/1M pop : 5\n",
      "Chiếm tỉ lệ phần trăm: 2.203 %\n",
      "\n"
     ]
    }
   ],
   "source": [
    "checkMissingData()"
   ]
  },
  {
   "cell_type": "markdown",
   "id": "c9b9a110",
   "metadata": {},
   "source": [
    "#### Đánh giá về dữ liệu\n",
    "- Sau khi liệt kê các thuộc tính để kiểm tra phần trăm số lượng bị thiếu thông tin, ta thấy đa số các cột thuộc tính bị thiếu dữ liệu chỉ có 5 thuộc tính là đầy đủ dữ liệu , số lượng thuộc tính thiếu trên 30% tương đối lớn"
   ]
  },
  {
   "cell_type": "markdown",
   "id": "a5183482",
   "metadata": {},
   "source": [
    "###### Giải quyết vấn đề bị thiếu dữ liệu: \n",
    "- Ta thấy các thuộc tính như ```New Cases/1M pop```, ```New Deaths/1M pop```, ```NewRecovered```, ```NewDeaths```, ```Serious,Critical```, ```NewCases``` có tỉ lệ phần trăm thiếu dữ liệu lớn hơn 30% , đồng thời ta thấy được thuộc tính đó không đóng góp nhiều vào quá trình phân tích và thống kê nên ta sẽ chọn phương án là loại bỏ các thuộc tính đó"
   ]
  },
  {
   "cell_type": "code",
   "execution_count": 8,
   "id": "977114f5",
   "metadata": {},
   "outputs": [],
   "source": [
    "data_covid = data_covid.drop(columns=[\"New Cases/1M pop\", \"NewRecovered\", \"NewDeaths\", \"New Deaths/1M pop\", \"Serious,Critical\", \"NewCases\"])"
   ]
  },
  {
   "cell_type": "markdown",
   "id": "3de4f2a9",
   "metadata": {},
   "source": [
    "- Ta thấy các thuộc tính như ```TotalTests```, ```Tests/1M pop``` , ```1 Testevery X ppl``` có tỉ lệ phần trăm như nhau = 6.696% , ta có thể đưa ra giả thiết: ```các sample thiếu dữ dữ liệu là một```, ta sẽ tiến hành kiếm tra"
   ]
  },
  {
   "cell_type": "code",
   "execution_count": 9,
   "id": "64b5e9aa",
   "metadata": {},
   "outputs": [
    {
     "name": "stdout",
     "output_type": "stream",
     "text": [
      "TotalTests:  {'French Polynesia', 'Seychelles', 'Kiribati', 'Western Sahara', 'MS Zaandam', 'Nicaragua', 'Vatican City', 'Samoa', 'Micronesia', 'Niue', 'Saint Helena', 'Tanzania', 'Tajikistan', 'Marshall Islands', 'Comoros', 'Diamond Princess'}\n",
      "\n",
      "Tests1Mpop:  {'French Polynesia', 'Seychelles', 'Kiribati', 'Western Sahara', 'MS Zaandam', 'Nicaragua', 'Vatican City', 'Samoa', 'Micronesia', 'Niue', 'Saint Helena', 'Tanzania', 'Tajikistan', 'Marshall Islands', 'Comoros', 'Diamond Princess'}\n",
      "\n",
      "1TesteveryXppl:  {'French Polynesia', 'Seychelles', 'Kiribati', 'Western Sahara', 'MS Zaandam', 'Nicaragua', 'Vatican City', 'Samoa', 'Micronesia', 'Niue', 'Saint Helena', 'Tanzania', 'Tajikistan', 'Marshall Islands', 'Comoros', 'Diamond Princess'}\n"
     ]
    }
   ],
   "source": [
    "country_TotalTests = []\n",
    "country_Tests1Mpop = []\n",
    "country_1TesteveryXppl = []\n",
    "\n",
    "for i in range(0, len(data_covid[\"TotalTests\"])):\n",
    "    try:\n",
    "        if (np.isnan(data_covid[\"TotalTests\"][i])):\n",
    "            country_TotalTests.append(data_covid.loc[i, \"Country,Other\"])\n",
    "    except:\n",
    "        None\n",
    "    \n",
    "    try:\n",
    "        if (np.isnan(data_covid[\"Tests/1M pop\"][i])):\n",
    "            country_Tests1Mpop.append(data_covid.loc[i, \"Country,Other\"])\n",
    "    except:\n",
    "        None\n",
    "    \n",
    "    try:\n",
    "        if (np.isnan(data_covid[\"1 Testevery X ppl\"][i])):\n",
    "            country_1TesteveryXppl.append(data_covid.loc[i, \"Country,Other\"])\n",
    "    except:\n",
    "        None\n",
    "country_TotalTests = set(country_TotalTests)\n",
    "country_Tests1Mpop = set(country_Tests1Mpop)\n",
    "country_1TesteveryXppl = set(country_1TesteveryXppl)\n",
    "\n",
    "print(\"TotalTests: \", country_TotalTests)\n",
    "print()\n",
    "print(\"Tests1Mpop: \", country_Tests1Mpop)\n",
    "print()\n",
    "print(\"1TesteveryXppl: \", country_1TesteveryXppl)"
   ]
  },
  {
   "cell_type": "markdown",
   "id": "c04c982f",
   "metadata": {},
   "source": [
    "**Đánh giá:** \n",
    "- Vì các nước đều như nhau giống với giả thiết ban đầu, đồng thời mục đích ban đầu ta sẽ phân tích các nước đông có tỉ lệ bị nhiễm covid cao, qua quan sát ta thấy các nước liệt kê trên là nước nhỏ với tỉ lệ dân số thấp đồng thời chứa các sample như ```Diamond Princess```, ```MS Zaandam```... là các tàu chở bệnh nhân bị covid , nó không phải là 1 quốc gia. Ta xem chúng thuộc dạng outlier. Nên ta sẽ quyết định loại bỏ các sample được liệt kê ở trên"
   ]
  },
  {
   "cell_type": "code",
   "execution_count": 10,
   "id": "c9ec6c11",
   "metadata": {},
   "outputs": [
    {
     "name": "stdout",
     "output_type": "stream",
     "text": [
      "Số sample và thuộc tính còn lại: (211, 15)\n"
     ]
    }
   ],
   "source": [
    "dr = []\n",
    "for i in range(0, len(data_covid[\"TotalTests\"])):\n",
    "    if (data_covid[\"Country,Other\"][i] in country_1TesteveryXppl):\n",
    "        dr.append(i)\n",
    "\n",
    "data_covid = data_covid.drop(dr, axis=0)\n",
    "print(\"Số sample và thuộc tính còn lại:\", data_covid.shape)"
   ]
  },
  {
   "cell_type": "markdown",
   "id": "c28b86c5",
   "metadata": {},
   "source": [
    "- **Kiểm tra thông tin bị thiếu**"
   ]
  },
  {
   "cell_type": "code",
   "execution_count": 11,
   "id": "b0b9fb8b",
   "metadata": {},
   "outputs": [
    {
     "name": "stdout",
     "output_type": "stream",
     "text": [
      "Số lượng thông tin bị thiếu trong thuộc tính  Country,Other : 0\n",
      "Chiếm tỉ lệ phần trăm: 0.0 %\n",
      "\n",
      "Số lượng thông tin bị thiếu trong thuộc tính  TotalCases : 0\n",
      "Chiếm tỉ lệ phần trăm: 0.0 %\n",
      "\n",
      "Số lượng thông tin bị thiếu trong thuộc tính  TotalDeaths : 0\n",
      "Chiếm tỉ lệ phần trăm: 0.0 %\n",
      "\n",
      "Số lượng thông tin bị thiếu trong thuộc tính  TotalRecovered : 9\n",
      "Chiếm tỉ lệ phần trăm: 4.265 %\n",
      "\n",
      "Số lượng thông tin bị thiếu trong thuộc tính  ActiveCases : 9\n",
      "Chiếm tỉ lệ phần trăm: 4.265 %\n",
      "\n",
      "Số lượng thông tin bị thiếu trong thuộc tính  Tot Cases/1M pop : 0\n",
      "Chiếm tỉ lệ phần trăm: 0.0 %\n",
      "\n",
      "Số lượng thông tin bị thiếu trong thuộc tính  Deaths/1M pop : 3\n",
      "Chiếm tỉ lệ phần trăm: 1.422 %\n",
      "\n",
      "Số lượng thông tin bị thiếu trong thuộc tính  TotalTests : 0\n",
      "Chiếm tỉ lệ phần trăm: 0.0 %\n",
      "\n",
      "Số lượng thông tin bị thiếu trong thuộc tính  Tests/1M pop : 0\n",
      "Chiếm tỉ lệ phần trăm: 0.0 %\n",
      "\n",
      "Số lượng thông tin bị thiếu trong thuộc tính  Population : 0\n",
      "Chiếm tỉ lệ phần trăm: 0.0 %\n",
      "\n",
      "Số lượng thông tin bị thiếu trong thuộc tính  Continent : 0\n",
      "Chiếm tỉ lệ phần trăm: 0.0 %\n",
      "\n",
      "Số lượng thông tin bị thiếu trong thuộc tính  1 Caseevery X ppl : 0\n",
      "Chiếm tỉ lệ phần trăm: 0.0 %\n",
      "\n",
      "Số lượng thông tin bị thiếu trong thuộc tính  1 Deathevery X ppl : 3\n",
      "Chiếm tỉ lệ phần trăm: 1.422 %\n",
      "\n",
      "Số lượng thông tin bị thiếu trong thuộc tính  1 Testevery X ppl : 0\n",
      "Chiếm tỉ lệ phần trăm: 0.0 %\n",
      "\n",
      "Số lượng thông tin bị thiếu trong thuộc tính  Active Cases/1M pop : 0\n",
      "Chiếm tỉ lệ phần trăm: 0.0 %\n",
      "\n"
     ]
    }
   ],
   "source": [
    "checkMissingData()"
   ]
  },
  {
   "cell_type": "markdown",
   "id": "be575687",
   "metadata": {},
   "source": [
    "**Đánh giá**\n",
    "- Đa số các cột thuộc tính có phần trăm thiếu dữ liệu là 0%, còn 4 thuộc tính có phần trăm thiếu dữ liệu dưới 3%, ta sẽ chọn phương án là phớt lờ các thông tin bị thiếu đó "
   ]
  },
  {
   "cell_type": "markdown",
   "id": "5e9a4c47",
   "metadata": {},
   "source": [
    "**Loại bỏ các thuộc tính không cần thiết cho quá trình thống kê và mô hình hóa dữ liệu**\n",
    "  + Ta sẽ lựa chọn loại bỏ 3 thuộc tính ```1 Caseevery X ppl```, ```1 Deathevery X ppl``` và ```1 Testevery X ppl``` vì ta không hiểu rõ ý nghĩa của 3 thuộc tính đó là gì, đồng thời trên trang ```https://www.worldometers.info``` thì đồng thời ẩn 3 thuộc tính đó, ta có thể suy luận rằng 3 thuộc tính đó có thể không quan trọng trong việc đánh giá và phân tích dữ liệu"
   ]
  },
  {
   "cell_type": "code",
   "execution_count": 12,
   "id": "ebb23cf2",
   "metadata": {},
   "outputs": [],
   "source": [
    "data_covid = data_covid.drop([\"1 Caseevery X ppl\", \"1 Deathevery X ppl\", \"1 Testevery X ppl\"], axis=1)"
   ]
  },
  {
   "cell_type": "markdown",
   "id": "9440d733",
   "metadata": {},
   "source": [
    "#### b. Kiểm tra kiểu dữ liệu trong mỗi thuộc tính"
   ]
  },
  {
   "cell_type": "code",
   "execution_count": 13,
   "id": "f68485d2",
   "metadata": {},
   "outputs": [
    {
     "name": "stdout",
     "output_type": "stream",
     "text": [
      "<class 'pandas.core.frame.DataFrame'>\n",
      "Int64Index: 211 entries, 0 to 218\n",
      "Data columns (total 12 columns):\n",
      " #   Column               Non-Null Count  Dtype \n",
      "---  ------               --------------  ----- \n",
      " 0   Country,Other        211 non-null    object\n",
      " 1   TotalCases           211 non-null    object\n",
      " 2   TotalDeaths          211 non-null    object\n",
      " 3   TotalRecovered       202 non-null    object\n",
      " 4   ActiveCases          202 non-null    object\n",
      " 5   Tot Cases/1M pop     211 non-null    object\n",
      " 6   Deaths/1M pop        208 non-null    object\n",
      " 7   TotalTests           211 non-null    object\n",
      " 8   Tests/1M pop         211 non-null    object\n",
      " 9   Population           211 non-null    object\n",
      " 10  Continent            211 non-null    object\n",
      " 11  Active Cases/1M pop  211 non-null    object\n",
      "dtypes: object(12)\n",
      "memory usage: 21.4+ KB\n"
     ]
    }
   ],
   "source": [
    "data_covid.info()"
   ]
  },
  {
   "cell_type": "markdown",
   "id": "d684ea50",
   "metadata": {},
   "source": [
    "- **Đánh giá**: ta thấy đươc đa số các cột thuộc tính đều thuộc dạng object , ta cần chuyển đổi cột thuộc tính sang đúng dạng của chúng\n",
    "  + Loại ```string```: Country,Other, Continent\n",
    "  + Loại ```datetime```: Date\n",
    "  + Loại ```float```: Tot Cases/1M pop, Deaths/1M pop, Tests/1M pop, 1 Caseevery X ppl, 1 Deathevery X ppl, 1 Testevery X ppl\n",
    "  + Loại ```int```: Active Cases/1M pop, TotalCases, TotalDeaths, TotalRecoverd, ActiveCases, Population, TotalTests"
   ]
  },
  {
   "cell_type": "markdown",
   "id": "498646e6",
   "metadata": {},
   "source": [
    "- Chuyển đổi sang string"
   ]
  },
  {
   "cell_type": "code",
   "execution_count": 17,
   "id": "ae6efc39",
   "metadata": {},
   "outputs": [],
   "source": [
    "data_covid[\"Country,Other\"] = data_covid[\"Country,Other\"].astype('string')\n",
    "data_covid[\"Continent\"] = data_covid[\"Continent\"].astype('string')"
   ]
  },
  {
   "cell_type": "markdown",
   "id": "b9df749c",
   "metadata": {},
   "source": [
    "- Chuyển đổi object sang float"
   ]
  },
  {
   "cell_type": "code",
   "execution_count": 19,
   "id": "f0933920",
   "metadata": {},
   "outputs": [],
   "source": [
    "col = [\"Active Cases/1M pop\", \"Tests/1M pop\", \"Deaths/1M pop\", \"Tot Cases/1M pop\"]\n",
    "for c in col:\n",
    "    data_covid[c] = data_covid[c].astype(str)\n",
    "    data_covid[c] = data_covid[c].str.replace(',', '')\n",
    "    data_covid[c] = data_covid[c].astype(float)"
   ]
  },
  {
   "cell_type": "markdown",
   "id": "fb183cd6",
   "metadata": {},
   "source": [
    "- Chuyển đổi sang int"
   ]
  },
  {
   "cell_type": "code",
   "execution_count": 20,
   "id": "3020429c",
   "metadata": {},
   "outputs": [],
   "source": [
    "col1 = [\"TotalTests\", \"Population\", \"TotalCases\", \"TotalDeaths\", \"ActiveCases\", \"TotalRecovered\"]\n",
    "\n",
    "for c in col1:\n",
    "    data_covid[c] = data_covid[c].astype(str)\n",
    "    data_covid[c] = data_covid[c].str.replace(',', '')\n",
    "    data_covid[c] = pd.to_numeric(data_covid[c], errors='coerce').astype('Int64') "
   ]
  },
  {
   "cell_type": "code",
   "execution_count": 21,
   "id": "e02e0988",
   "metadata": {},
   "outputs": [
    {
     "name": "stdout",
     "output_type": "stream",
     "text": [
      "<class 'pandas.core.frame.DataFrame'>\n",
      "Int64Index: 211 entries, 0 to 218\n",
      "Data columns (total 12 columns):\n",
      " #   Column               Non-Null Count  Dtype  \n",
      "---  ------               --------------  -----  \n",
      " 0   Country,Other        211 non-null    string \n",
      " 1   TotalCases           211 non-null    Int64  \n",
      " 2   TotalDeaths          208 non-null    Int64  \n",
      " 3   TotalRecovered       202 non-null    Int64  \n",
      " 4   ActiveCases          202 non-null    Int64  \n",
      " 5   Tot Cases/1M pop     211 non-null    float64\n",
      " 6   Deaths/1M pop        208 non-null    float64\n",
      " 7   TotalTests           211 non-null    Int64  \n",
      " 8   Tests/1M pop         211 non-null    float64\n",
      " 9   Population           211 non-null    Int64  \n",
      " 10  Continent            211 non-null    string \n",
      " 11  Active Cases/1M pop  211 non-null    float64\n",
      "dtypes: Int64(6), float64(4), string(2)\n",
      "memory usage: 22.7 KB\n"
     ]
    }
   ],
   "source": [
    "data_covid.info()"
   ]
  },
  {
   "cell_type": "markdown",
   "id": "2c5626e2",
   "metadata": {},
   "source": [
    "### Đánh giá tổng quan sau khi quá trình tiền xử lí dữ liệu"
   ]
  },
  {
   "cell_type": "code",
   "execution_count": 23,
   "id": "7e0074a7",
   "metadata": {},
   "outputs": [
    {
     "name": "stdout",
     "output_type": "stream",
     "text": [
      "Số lượng sample: 211\n",
      "Số lượng thuộc tính: 12\n",
      "Số lượng các quốc gia trong dữ liêu: 30\n",
      "Số lượng châu lục: 6\n",
      "\n"
     ]
    }
   ],
   "source": [
    "print(\"Số lượng sample:\", data_covid.shape[0])\n",
    "print(\"Số lượng thuộc tính:\", data_covid.shape[1])\n",
    "print(\"Số lượng các quốc gia trong dữ liêu:\", int(data_covid.shape[0] / 7))\n",
    "print(f\"Số lượng châu lục: {data_covid['Continent'].nunique()}\\n\")"
   ]
  },
  {
   "cell_type": "markdown",
   "id": "5f4dddad",
   "metadata": {},
   "source": [
    "- **Tiến hành lưu dữ liệu vào Covid_new.csv trong thư mục New_Data**"
   ]
  },
  {
   "cell_type": "code",
   "execution_count": 24,
   "id": "8b959cb2",
   "metadata": {},
   "outputs": [],
   "source": [
    "data_covid.to_csv('New_Data/Covid_new.csv', index=False)"
   ]
  },
  {
   "cell_type": "code",
   "execution_count": null,
   "id": "78ef9eb0",
   "metadata": {},
   "outputs": [],
   "source": []
  }
 ],
 "metadata": {
  "kernelspec": {
   "display_name": "Python 3",
   "language": "python",
   "name": "python3"
  },
  "language_info": {
   "codemirror_mode": {
    "name": "ipython",
    "version": 3
   },
   "file_extension": ".py",
   "mimetype": "text/x-python",
   "name": "python",
   "nbconvert_exporter": "python",
   "pygments_lexer": "ipython3",
   "version": "3.8.8"
  }
 },
 "nbformat": 4,
 "nbformat_minor": 5
}
