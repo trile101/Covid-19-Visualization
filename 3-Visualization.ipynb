{
 "cells": [
  {
   "cell_type": "markdown",
   "id": "1be5368a",
   "metadata": {},
   "source": [
    "# Covid-19  -  Visualization"
   ]
  },
  {
   "cell_type": "markdown",
   "id": "7bddc5c6",
   "metadata": {},
   "source": [
    "---"
   ]
  },
  {
   "cell_type": "code",
   "execution_count": 2,
   "id": "eda4a3af",
   "metadata": {},
   "outputs": [
    {
     "data": {
      "text/html": [
       "        <script type=\"text/javascript\">\n",
       "        window.PlotlyConfig = {MathJaxConfig: 'local'};\n",
       "        if (window.MathJax) {MathJax.Hub.Config({SVG: {font: \"STIX-Web\"}});}\n",
       "        if (typeof require !== 'undefined') {\n",
       "        require.undef(\"plotly\");\n",
       "        requirejs.config({\n",
       "            paths: {\n",
       "                'plotly': ['https://cdn.plot.ly/plotly-2.8.3.min']\n",
       "            }\n",
       "        });\n",
       "        require(['plotly'], function(Plotly) {\n",
       "            window._Plotly = Plotly;\n",
       "        });\n",
       "        }\n",
       "        </script>\n",
       "        "
      ]
     },
     "metadata": {},
     "output_type": "display_data"
    }
   ],
   "source": [
    "import pandas as pd\n",
    "import numpy as np\n",
    "import matplotlib.pyplot as plt\n",
    "import seaborn as sns\n",
    "import plotly.graph_objs as go \n",
    "from plotly.offline import init_notebook_mode,iplot,plot\n",
    "init_notebook_mode(connected=True)"
   ]
  },
  {
   "cell_type": "code",
   "execution_count": 3,
   "id": "be33e3d5",
   "metadata": {},
   "outputs": [
    {
     "data": {
      "text/html": [
       "<div>\n",
       "<style scoped>\n",
       "    .dataframe tbody tr th:only-of-type {\n",
       "        vertical-align: middle;\n",
       "    }\n",
       "\n",
       "    .dataframe tbody tr th {\n",
       "        vertical-align: top;\n",
       "    }\n",
       "\n",
       "    .dataframe thead th {\n",
       "        text-align: right;\n",
       "    }\n",
       "</style>\n",
       "<table border=\"1\" class=\"dataframe\">\n",
       "  <thead>\n",
       "    <tr style=\"text-align: right;\">\n",
       "      <th></th>\n",
       "      <th>Country,Other</th>\n",
       "      <th>TotalCases</th>\n",
       "      <th>TotalDeaths</th>\n",
       "      <th>TotalRecovered</th>\n",
       "      <th>ActiveCases</th>\n",
       "      <th>Tot Cases/1M pop</th>\n",
       "      <th>Deaths/1M pop</th>\n",
       "      <th>TotalTests</th>\n",
       "      <th>Tests/1M pop</th>\n",
       "      <th>Population</th>\n",
       "      <th>Continent</th>\n",
       "      <th>Active Cases/1M pop</th>\n",
       "    </tr>\n",
       "  </thead>\n",
       "  <tbody>\n",
       "    <tr>\n",
       "      <th>0</th>\n",
       "      <td>Afghanistan</td>\n",
       "      <td>176229</td>\n",
       "      <td>7643.0</td>\n",
       "      <td>158429.0</td>\n",
       "      <td>10157.0</td>\n",
       "      <td>4361.0</td>\n",
       "      <td>189.0</td>\n",
       "      <td>904261</td>\n",
       "      <td>22376.0</td>\n",
       "      <td>40411760</td>\n",
       "      <td>Asia</td>\n",
       "      <td>251.0</td>\n",
       "    </tr>\n",
       "    <tr>\n",
       "      <th>1</th>\n",
       "      <td>Albania</td>\n",
       "      <td>272663</td>\n",
       "      <td>3485.0</td>\n",
       "      <td>268359.0</td>\n",
       "      <td>819.0</td>\n",
       "      <td>94923.0</td>\n",
       "      <td>1213.0</td>\n",
       "      <td>1760359</td>\n",
       "      <td>612837.0</td>\n",
       "      <td>2872476</td>\n",
       "      <td>Europe</td>\n",
       "      <td>285.0</td>\n",
       "    </tr>\n",
       "    <tr>\n",
       "      <th>2</th>\n",
       "      <td>Algeria</td>\n",
       "      <td>265432</td>\n",
       "      <td>6864.0</td>\n",
       "      <td>178050.0</td>\n",
       "      <td>80518.0</td>\n",
       "      <td>5874.0</td>\n",
       "      <td>152.0</td>\n",
       "      <td>230861</td>\n",
       "      <td>5109.0</td>\n",
       "      <td>45191206</td>\n",
       "      <td>Africa</td>\n",
       "      <td>1782.0</td>\n",
       "    </tr>\n",
       "    <tr>\n",
       "      <th>3</th>\n",
       "      <td>Andorra</td>\n",
       "      <td>38794</td>\n",
       "      <td>152.0</td>\n",
       "      <td>37925.0</td>\n",
       "      <td>717.0</td>\n",
       "      <td>500736.0</td>\n",
       "      <td>1962.0</td>\n",
       "      <td>249838</td>\n",
       "      <td>3224798.0</td>\n",
       "      <td>77474</td>\n",
       "      <td>Europe</td>\n",
       "      <td>9255.0</td>\n",
       "    </tr>\n",
       "    <tr>\n",
       "      <th>4</th>\n",
       "      <td>Angola</td>\n",
       "      <td>98927</td>\n",
       "      <td>1900.0</td>\n",
       "      <td>96857.0</td>\n",
       "      <td>170.0</td>\n",
       "      <td>2860.0</td>\n",
       "      <td>55.0</td>\n",
       "      <td>1463343</td>\n",
       "      <td>42299.0</td>\n",
       "      <td>34595276</td>\n",
       "      <td>Africa</td>\n",
       "      <td>5.0</td>\n",
       "    </tr>\n",
       "  </tbody>\n",
       "</table>\n",
       "</div>"
      ],
      "text/plain": [
       "  Country,Other  TotalCases  TotalDeaths  TotalRecovered  ActiveCases  \\\n",
       "0   Afghanistan      176229       7643.0        158429.0      10157.0   \n",
       "1       Albania      272663       3485.0        268359.0        819.0   \n",
       "2       Algeria      265432       6864.0        178050.0      80518.0   \n",
       "3       Andorra       38794        152.0         37925.0        717.0   \n",
       "4        Angola       98927       1900.0         96857.0        170.0   \n",
       "\n",
       "   Tot Cases/1M pop  Deaths/1M pop  TotalTests  Tests/1M pop  Population  \\\n",
       "0            4361.0          189.0      904261       22376.0    40411760   \n",
       "1           94923.0         1213.0     1760359      612837.0     2872476   \n",
       "2            5874.0          152.0      230861        5109.0    45191206   \n",
       "3          500736.0         1962.0      249838     3224798.0       77474   \n",
       "4            2860.0           55.0     1463343       42299.0    34595276   \n",
       "\n",
       "  Continent  Active Cases/1M pop  \n",
       "0      Asia                251.0  \n",
       "1    Europe                285.0  \n",
       "2    Africa               1782.0  \n",
       "3    Europe               9255.0  \n",
       "4    Africa                  5.0  "
      ]
     },
     "execution_count": 3,
     "metadata": {},
     "output_type": "execute_result"
    }
   ],
   "source": [
    "data_covid = pd.read_csv(\"New_Data\\Covid_new.csv\")\n",
    "data_covid.head()"
   ]
  },
  {
   "cell_type": "code",
   "execution_count": 4,
   "id": "56f3a5a0",
   "metadata": {},
   "outputs": [
    {
     "data": {
      "text/plain": [
       "['Country,Other',\n",
       " 'TotalCases',\n",
       " 'TotalDeaths',\n",
       " 'TotalRecovered',\n",
       " 'ActiveCases',\n",
       " 'Tot\\xa0Cases/1M pop',\n",
       " 'Deaths/1M pop',\n",
       " 'TotalTests',\n",
       " 'Tests/1M pop',\n",
       " 'Population',\n",
       " 'Continent',\n",
       " 'Active Cases/1M pop']"
      ]
     },
     "execution_count": 4,
     "metadata": {},
     "output_type": "execute_result"
    }
   ],
   "source": [
    "data_covid.columns.tolist()"
   ]
  },
  {
   "cell_type": "code",
   "execution_count": 5,
   "id": "91145e03",
   "metadata": {},
   "outputs": [
    {
     "data": {
      "text/plain": [
       "(211, 12)"
      ]
     },
     "execution_count": 5,
     "metadata": {},
     "output_type": "execute_result"
    }
   ],
   "source": [
    "data_covid.shape"
   ]
  },
  {
   "cell_type": "markdown",
   "id": "65ac8636",
   "metadata": {},
   "source": [
    "* Tóm tắt"
   ]
  },
  {
   "cell_type": "markdown",
   "id": "e2445d90",
   "metadata": {},
   "source": [
    "\n",
    "|Thuộc tính|Kiểu dữ liệu|     Ý nghĩa   \n",
    "|:--------:|:-------------:|:-----:\n",
    "|**Country,Other**|Chuỗi|Đất nước lấy thông tin|\n",
    "|**TotalCases**|Số nguyên|Số lượng toàn bộ người bị nhiễm|\n",
    "|**TotalDeaths**|Số nguyên|Tổng số lượng ca tử vong do Covid-19|\n",
    "|**TotalRecovered**|Số nguyên|Tổng số lượng ca hồi phục khi bị nhiễm Covid-19|\n",
    "|**ActiveCases**|Số nguyên|Số lượng người bị nhiễm và chưa khỏi bệnh|     \n",
    "|**Tot Cases/1M pop**|Số nguyên|Tổng số ca được xác nhận nhiễm trên 1 triệu dân số|\n",
    "|**Deaths/1M pop**|Số nguyên|Tổng số ca tư vong trên 1 triệu dân số|\n",
    "|**TotalTests**|Số nguyên|Tổng số lượng được xác nghiệm Covid-19|\n",
    "|**Tests/1M pop**|Số nguyên|Tổng số lượng được xác nghiệm Covid-19 trên 1 triệu dân số|   \n",
    "|**Population**|Số nguyên|Tổng số dân số của đất nước|   \n",
    "|**Continent**|Chuỗi|Tên châu lục| \n",
    "|**Active Cases/1M pop**|Số nguyên|Tổng số lương ca nhiễm chưa khỏi bệnh trên 1 triệu dân số|"
   ]
  },
  {
   "cell_type": "markdown",
   "id": "58fdbbe0",
   "metadata": {},
   "source": [
    "### 1. Ta tiến hành so sánh đại dịch `COVID-19` với 3 dịch bệnh trước đây"
   ]
  },
  {
   "cell_type": "markdown",
   "id": "e717770c",
   "metadata": {},
   "source": [
    "- `Bảng số liệu được lấy từ nguồn internet`"
   ]
  },
  {
   "cell_type": "markdown",
   "id": "8f3ed389",
   "metadata": {},
   "source": [
    "|Dịch bệnh|Số ca nhiễm|Số ca tử vong\n",
    "|:--------:|:-------------:|:-----:\n",
    "|**EBOLA**|28646|11323|\n",
    "|**MERS**|8096|858|\n",
    "|**SARS**|2494|774|"
   ]
  },
  {
   "cell_type": "markdown",
   "id": "db23b6ec",
   "metadata": {},
   "source": [
    "- Tiến hành xác định số ca nhiễm và số ca tử vong ở tới ngày `13/03/2022`"
   ]
  },
  {
   "cell_type": "code",
   "execution_count": 6,
   "id": "dd0cebab",
   "metadata": {},
   "outputs": [
    {
     "name": "stdout",
     "output_type": "stream",
     "text": [
      "So ca nhiem covid-19:  458025773\n",
      "So ca tu vong do covid-19:  6063721\n"
     ]
    }
   ],
   "source": [
    "total_cases = int(data_covid[\"TotalCases\"].sum())\n",
    "total_deaths = int(data_covid[\"TotalDeaths\"].sum())\n",
    "print(\"So ca nhiem covid-19: \", total_cases)\n",
    "print(\"So ca tu vong do covid-19: \", total_deaths)"
   ]
  },
  {
   "cell_type": "markdown",
   "id": "ccec95a1",
   "metadata": {},
   "source": [
    "- Sử dụng biểu đồ `barchar` để trực quan"
   ]
  },
  {
   "cell_type": "code",
   "execution_count": 7,
   "id": "f37a6cdf",
   "metadata": {},
   "outputs": [
    {
     "data": {
      "image/png": "[encoded data removed]",
      "text/plain": [
       "<Figure size 1440x360 with 3 Axes>"
      ]
     },
     "metadata": {
      "needs_background": "light"
     },
     "output_type": "display_data"
    }
   ],
   "source": [
    "# xay dung du lieu\n",
    "data_cases = {\"COVID-19\": total_cases, \"EBOLA\": 28646, \"MERS\": 8096, \"SARS\": 2494}\n",
    "data_deaths = {\"COVID-19\": total_deaths, \"EBOLA\": 11323, \"MERS\": 858, \"SARS\": 774}\n",
    "\n",
    "figure, axis = plt.subplots(1, 3, figsize = (20, 5))\n",
    "\n",
    "axis[0].bar(list(data_cases.keys()), list(data_cases.values()), width=0.4)\n",
    "axis[0].set_title(\"Số ca mắc bệnh do dich bệnh gây ra\")\n",
    "for i, v in enumerate(list(data_cases.values())):\n",
    "    axis[0].text(i - 0.1, v + 5000000, str(v))\n",
    "    \n",
    "axis[1].bar(list(data_deaths.keys()), list(data_deaths.values()), width=0.4)\n",
    "axis[1].set_title(\"Số ca tử vong do dich bệnh gây ra\")\n",
    "for i, v in enumerate(list(data_deaths.values())):\n",
    "    axis[1].text(i - 0.1, v + 50000, str(v))\n",
    "    \n",
    "# create ti le\n",
    "Ratio_list = []\n",
    "list_deaths = list(data_deaths.values())\n",
    "list_cases = list(data_cases.values())\n",
    "for i in range(0, len(list_deaths)):\n",
    "    Ratio_list.append(round(list_deaths[i] / list_cases[i], 3))\n",
    "\n",
    "axis[2].bar(list(data_deaths.keys()), Ratio_list, width=0.4)\n",
    "axis[2].set_title(\"Tỉ lệ tử vong do các loại dịch bệnh gây ra\")\n",
    "for i, v in enumerate(Ratio_list):\n",
    "    axis[2].text(i - 0.1, v , str(v))\n",
    "    \n",
    "plt.show()"
   ]
  },
  {
   "cell_type": "markdown",
   "id": "6d58945b",
   "metadata": {},
   "source": [
    "**Nhận xét:** Ta đã so sánh COVID_19 với 3 loại dịch bệnh ở 2 biểu đồ trên, ta thấy rõ rằng tốc độ lan truyền của COVID-19 là chưa từng có so với các loại dịch bệnh trước đây khi tỉ lệ mắc covid cao ngất ngưởng và đồng thời số người tử vong do `Covid-19` chiếm cao => cho thấy mức độ nguy hiểm của con virus `CORONA` này. Dựa vào mức độ `lây loan nhanh chóng` và `nguy hiểm` của **COVID-19** đã ảnh hưởng nặng nề đến thế giới trong 3 năm và chưa có dấu hiệu kết thúc."
   ]
  },
  {
   "cell_type": "code",
   "execution_count": 8,
   "id": "8ec84ef9",
   "metadata": {},
   "outputs": [
    {
     "data": {
      "image/png": "[encoded data removed]",
      "text/plain": [
       "<Figure size 1008x576 with 1 Axes>"
      ]
     },
     "metadata": {},
     "output_type": "display_data"
    }
   ],
   "source": [
    "# Create data\n",
    "labels = [\"TotalDeaths\", \"TotalRecovered\", \"ActiveCases\"]\n",
    "tempt_value = []\n",
    "for label in labels:\n",
    "    tempt = int(data_covid[label].sum())\n",
    "    tempt_value.append(tempt)\n",
    "\n",
    "plt.figure(figsize = (14, 8))\n",
    "colors = [\"grey\", \"grey\", \"grey\"]\n",
    "plt.pie(tempt_value, labels = labels, autopct='%1.2f%%', colors=colors)\n",
    "plt.title(\"Tình hình ca nhiễm ở trên thế giới\")\n",
    "circle = plt.Circle( (0,0), 0.7, color='white')\n",
    "p=plt.gcf()\n",
    "p.gca().add_artist(circle)\n",
    "plt.show()"
   ]
  },
  {
   "cell_type": "markdown",
   "id": "1746ebc9",
   "metadata": {},
   "source": [
    "**Nhận xét:** Ta thấy rõ được tỉ lệ phần phần tử vong do `COVID-19` không quá cao (1.37%) do sự phát triển của y học hiện đại đồng thời tác dụng của các loại vaccine qua đó đã hạn chế sự nguy hiển của Covid-19 "
   ]
  },
  {
   "cell_type": "markdown",
   "id": "f97b802a",
   "metadata": {},
   "source": [
    "### 2. Xem xét châu lục có tỉ lệ ca nhiểm"
   ]
  },
  {
   "cell_type": "code",
   "execution_count": 9,
   "id": "09c560f9",
   "metadata": {},
   "outputs": [
    {
     "data": {
      "image/png": "[encoded data removed]",
      "text/plain": [
       "<Figure size 720x504 with 1 Axes>"
      ]
     },
     "metadata": {},
     "output_type": "display_data"
    }
   ],
   "source": [
    "data = data_covid.groupby(\"Continent\")[\"TotalCases\"].sum()\n",
    "tempt_value = list(data.values)\n",
    "tempt_name_of_continents = list(data.keys())\n",
    "\n",
    "colors = [\"grey\", \"grey\", \"grey\", \"grey\", \"grey\", \"grey\"]\n",
    "plt.figure(figsize = (10, 7))\n",
    "plt.pie(tempt_value, labels = tempt_name_of_continents, autopct='%1.2f%%', colors=colors)\n",
    "plt.title(\"Biểu đồ tròn về phần trăm ca nhiễm COVID-19 trên 6 châu lục\")\n",
    "plt.show() "
   ]
  },
  {
   "cell_type": "markdown",
   "id": "46e23611",
   "metadata": {},
   "source": [
    "**Nhận xét:** Tính tới ngày `13/03/2022`, Châu âu (Europe) chiếm tỉ lệ cao nhất `36.05%`, chiếm hơn 1/3 số ca nhiễm trên toàn thế giới, hiện nay châu âu được xem là tâm điểm của đại dịch. Theo thông tin của nhiều nguồn cho biết `Châu âu phải đối mặt với số ca nhiễm biến thể Omicron tăng lên`."
   ]
  },
  {
   "cell_type": "markdown",
   "id": "7a7a80c8",
   "metadata": {},
   "source": [
    "- Ta đặt ra giải thiết `tỉ lệ ca nhiễm tăng lên đó là do 1 vài nước trong châu âu phòng chống dịch bệnh chưa tốt` hay có thể là `biến thể Omicron nó lây lan nhanh hơn ở khí hậu của châu âu` . Ta sẽ sử dụng dữ liệu để tìm hiểu hiểu và cố gắng trả lời giả thiết này."
   ]
  },
  {
   "cell_type": "code",
   "execution_count": 10,
   "id": "fee88966",
   "metadata": {},
   "outputs": [
    {
     "data": {
      "image/png": "[encoded data removed]",
      "text/plain": [
       "<Figure size 720x576 with 1 Axes>"
      ]
     },
     "metadata": {
      "needs_background": "light"
     },
     "output_type": "display_data"
    }
   ],
   "source": [
    "continents = data_covid[\"Continent\"].unique()\n",
    "value_box = []\n",
    "for continent in continents:\n",
    "    data_covid_continent = data_covid.loc[data_covid[\"Continent\"] == continent]\n",
    "    value_box.append(data_covid_continent[\"TotalCases\"])\n",
    "\n",
    "plt.figure(figsize = (10, 8))\n",
    "plt.boxplot(value_box)\n",
    "plt.xticks([1, 2, 3, 4, 5, 6], continents)\n",
    "\n",
    "plt.title(\"Biểu đồ phân phối ca nhiễm ở 6 châu lục tới ngày 13/03/2022\")\n",
    "plt.ylabel(\"Ca nhiễm Covid-19\")\n",
    "plt.xlabel(\"Châu lục\")\n",
    "plt.show()"
   ]
  },
  {
   "cell_type": "markdown",
   "id": "654edb58",
   "metadata": {},
   "source": [
    "**Nhận xét:** Dựa vào `box plox`, ta thấy rõ ở `Europe` đã xuất hiện tới 5 outlier hình dung được giả thiết đầu tiên `tỉ lệ ca nhiễm tăng lên đó là do 1 vài nước trong châu âu phòng chống dịch bệnh chưa tốt` của ta đã đúng giải thích rõ ràng tại sao tổng số ca nhiễm của châu âu lại chiếm tới 1/3 so với thế giới. Kèm theo đó có 1 điều đặc biệt ở `North America` xuất hiện 1 outlier lớn qua đó do 1 mình outlier đó đã kéo số người nhiễm trung bình ở châu mĩ (North America) tăng mạnh."
   ]
  },
  {
   "cell_type": "markdown",
   "id": "ae94d9f9",
   "metadata": {},
   "source": [
    "### 3. Số ca nhiễm của 20 nước cao nhất vào ngày 13/03/2022"
   ]
  },
  {
   "cell_type": "code",
   "execution_count": 11,
   "id": "04c08cf9",
   "metadata": {},
   "outputs": [
    {
     "data": {
      "image/png": "[encoded data removed]",
      "text/plain": [
       "<Figure size 1296x576 with 1 Axes>"
      ]
     },
     "metadata": {
      "needs_background": "light"
     },
     "output_type": "display_data"
    }
   ],
   "source": [
    "tempt_data = data_covid.sort_values(by=[\"TotalCases\"], ascending=False)[0:20]\n",
    "tempt_data = tempt_data.sort_values(by=[\"TotalCases\"], ascending=True)\n",
    "plt.figure(figsize = (18, 8))\n",
    "plt.barh(tempt_data[\"Country,Other\"], tempt_data[\"TotalCases\"])\n",
    "\n",
    "for i, v in enumerate(tempt_data[\"TotalCases\"]):\n",
    "    plt.text(v, i - 0.1, str(v), fontsize = 9)\n",
    "\n",
    "plt.title(\"Số ca nhiễm của 20 nước cao nhất trên thế giới\")\n",
    "plt.show()"
   ]
  },
  {
   "cell_type": "code",
   "execution_count": 12,
   "id": "598591a8",
   "metadata": {},
   "outputs": [
    {
     "data": {
      "image/png": "[encoded data removed]",
      "text/plain": [
       "<Figure size 1296x576 with 1 Axes>"
      ]
     },
     "metadata": {
      "needs_background": "light"
     },
     "output_type": "display_data"
    }
   ],
   "source": [
    "tempt_data = data_covid.sort_values(by=[\"TotalDeaths\"], ascending=False)[0:20]\n",
    "tempt_data = tempt_data.sort_values(by=[\"TotalDeaths\"], ascending=True)\n",
    "plt.figure(figsize = (18, 8))\n",
    "plt.barh(tempt_data[\"Country,Other\"], tempt_data[\"TotalDeaths\"])\n",
    "\n",
    "for i, v in enumerate(tempt_data[\"TotalDeaths\"]):\n",
    "    plt.text(v, i - 0.1, str(v), fontsize = 9)\n",
    "\n",
    "plt.title(\"Số ca tử vong của 20 nước cao nhất trên thế giới\")\n",
    "plt.show()"
   ]
  },
  {
   "cell_type": "code",
   "execution_count": 13,
   "id": "68c01ffd",
   "metadata": {},
   "outputs": [
    {
     "data": {
      "image/png": "[encoded data removed]",
      "text/plain": [
       "<Figure size 720x360 with 1 Axes>"
      ]
     },
     "metadata": {
      "needs_background": "light"
     },
     "output_type": "display_data"
    }
   ],
   "source": [
    "tempt_countries = tempt_data.groupby(\"Continent\")[\"Country,Other\"].count()\n",
    "tempt_name_of_continents = list(tempt_countries.keys())\n",
    "tempt_values = list(tempt_countries.values)\n",
    "\n",
    "plt.figure(figsize = (10, 5))\n",
    "plt.bar(tempt_name_of_continents, tempt_values, width=1)\n",
    "plt.title(\"Số nước thuộc các châu lục trong Top 20 nước có ca nhiễm nhiều nhất\")\n",
    "plt.show()"
   ]
  },
  {
   "cell_type": "markdown",
   "id": "b71a83d0",
   "metadata": {},
   "source": [
    "**Nhận xét:** `Mỹ` vẫn chiếm ngôi vị đầu với số ca nhiễm nhiều nhất trên thế giới và gần như là gấp đôi so với nước đứng thứ 2 là `Ấn độ`. Ở trong `histogram` ta thấy châu âu (Europe) có nhiều nước trong top 20 nhất (9 nước) => Qua đó ta có thể giải thích lý do tại sao `châu âu` lại chiếm tỉ lệ nhiễm 1/3 so với thế giới. Đồng thời giả thiết đầu tiên của ta đặt ra là đúng: `tỉ lệ ca nhiễm tăng lên đó là do 1 vài nước trong châu âu phòng chống dịch bệnh chưa tốt`"
   ]
  },
  {
   "cell_type": "code",
   "execution_count": 14,
   "id": "03c0abfd",
   "metadata": {},
   "outputs": [
    {
     "data": {
      "image/png": "[encoded data removed]",
      "text/plain": [
       "<Figure size 576x432 with 1 Axes>"
      ]
     },
     "metadata": {
      "needs_background": "light"
     },
     "output_type": "display_data"
    }
   ],
   "source": [
    "totalcases = data_covid['TotalCases'].sum()\n",
    "us_confirmed = data_covid[data_covid['Country,Other']=='USA']['TotalCases'].sum()\n",
    "outside_US = totalcases - us_confirmed\n",
    "\n",
    "plt.figure(figsize=(8, 6))\n",
    "plt.bar('United States', us_confirmed, color=\"dimgray\")\n",
    "plt.bar('Outside United States', outside_US, color=\"darkgrey\")\n",
    "plt.title('Số ca nhiễm nước Mĩ so với thế giới', size=20)\n",
    "plt.xticks(size=20)\n",
    "plt.yticks(size=20)\n",
    "plt.show()"
   ]
  },
  {
   "cell_type": "markdown",
   "id": "837475b0",
   "metadata": {},
   "source": [
    "**Nhận xét:** Ta có thể thấy số ca nhiễm của Hoa Kỳ bằng 1/5 so với thế giới vượt xa so với các nước Bắc Mĩ khác. Nguyên nhân chính chủ yếu là người dân Mĩ không tuân thủ những quy định hướng dẫn phòng chóng Covid của chính phủ. Từ đó có thể thấy nước Mĩ tăng về số ca nhiễm sẽ dẫn đến số ca nhiễm của cả Bắc Mĩ tăng đáng kể "
   ]
  },
  {
   "cell_type": "markdown",
   "id": "c85ef802",
   "metadata": {},
   "source": [
    "### 4.  Biểu diễn mức độ khỏi bệnh và tử vong của 20 nước có ca nhiễm cao nhất"
   ]
  },
  {
   "cell_type": "code",
   "execution_count": 15,
   "id": "6fde2294",
   "metadata": {},
   "outputs": [
    {
     "data": {
      "image/png": "[encoded data removed]",
      "text/plain": [
       "<Figure size 1440x720 with 1 Axes>"
      ]
     },
     "metadata": {
      "needs_background": "light"
     },
     "output_type": "display_data"
    }
   ],
   "source": [
    "X_axis = np.arange(20)\n",
    "plt.figure(figsize = (20, 10))\n",
    "plt.bar(X_axis - 0.2, tempt_data[\"Tot Cases/1M pop\"], 0.4, label = \"Tot Cases/1M pop\", color=\"dimgray\")\n",
    "plt.bar(X_axis + 0.2, tempt_data[\"Deaths/1M pop\"], 0.4, label = \"Deaths/1M pop\", color=\"darkgray\")\n",
    "\n",
    "plt.xticks(X_axis, tempt_data[\"Country,Other\"])\n",
    "plt.xlabel(\"Countries\")\n",
    "plt.ylabel(\"Number of persons\")\n",
    "plt.title(\"Tổng số ca được xác nhận nhiễm và tử vong trên 1 triệu dân số\")\n",
    "plt.legend()\n",
    "plt.show()"
   ]
  },
  {
   "cell_type": "markdown",
   "id": "fc3bd733",
   "metadata": {},
   "source": [
    "**Nhận xét:** Tuy nước `Mĩ` có số ca nhiễm cao nhất và vượt trội so với các nước còn lại như có thể thấy ở trên biểu đồ trên của số người nhiễm và tử vong trên 1 triệu dân số thì nước `Mĩ` chỉ ở vị trí thứ 4. Nước dẫn đầu là nước `Pháp` với gần `350000` người nhiễm trên 1 triệu dân số. Lý giải cho vấn đề đó là dân số của nước Mĩ là `329,5 triệu` còn của pháp là `67,39 triệu`."
   ]
  },
  {
   "cell_type": "code",
   "execution_count": 16,
   "id": "2cfa7844",
   "metadata": {},
   "outputs": [],
   "source": [
    "data = dict(\n",
    "        type = 'choropleth',\n",
    "        colorscale = 'gray',\n",
    "        locations = data_covid['Country,Other'],\n",
    "        locationmode = \"country names\",\n",
    "        z = data_covid['ActiveCases'],\n",
    "        text = data_covid['Country,Other'],\n",
    "        colorbar = {'title' : 'ActiveCases'},\n",
    "      )"
   ]
  },
  {
   "cell_type": "code",
   "execution_count": 17,
   "id": "e271e04c",
   "metadata": {},
   "outputs": [
    {
     "data": {
      "application/vnd.plotly.v1+json": {
       "config": {
        "linkText": "Export to plot.ly",
        "plotlyServerURL": "https://plot.ly",
        "showLink": false
       },
       "data": [
        {
         "colorbar": {
          "title": {
           "text": "ActiveCases"
          }
         },
         "colorscale": [
          [
           0,
           "rgb(0, 0, 0)"
          ],
          [
           0.09090909090909091,
           "rgb(16, 16, 16)"
          ],
          [
           0.18181818181818182,
           "rgb(38, 38, 38)"
          ],
          [
           0.2727272727272727,
           "rgb(59, 59, 59)"
          ],
          [
           0.36363636363636365,
           "rgb(81, 80, 80)"
          ],
          [
           0.45454545454545453,
           "rgb(102, 101, 101)"
          ],
          [
           0.5454545454545454,
           "rgb(124, 123, 122)"
          ],
          [
           0.6363636363636364,
           "rgb(146, 146, 145)"
          ],
          [
           0.7272727272727273,
           "rgb(171, 171, 170)"
          ],
          [
           0.8181818181818182,
           "rgb(197, 197, 195)"
          ],
          [
           0.9090909090909091,
           "rgb(224, 224, 223)"
          ],
          [
           1,
           "rgb(254, 254, 253)"
          ]
         ],
         "locationmode": "country names",
         "locations": [
          "Afghanistan",
          "Albania",
          "Algeria",
          "Andorra",
          "Angola",
          "Anguilla",
          "Antigua and Barbuda",
          "Argentina",
          "Armenia",
          "Aruba",
          "Australia",
          "Austria",
          "Azerbaijan",
          "Bahamas",
          "Bahrain",
          "Bangladesh",
          "Barbados",
          "Belarus",
          "Belgium",
          "Belize",
          "Benin",
          "Bermuda",
          "Bhutan",
          "Bolivia",
          "Bosnia and Herzegovina",
          "Botswana",
          "Brazil",
          "British Virgin Islands",
          "Brunei ",
          "Bulgaria",
          "Burkina Faso",
          "Burundi",
          "CAR",
          "Cabo Verde",
          "Cambodia",
          "Cameroon",
          "Canada",
          "Caribbean Netherlands",
          "Cayman Islands",
          "Chad",
          "Channel Islands",
          "Chile",
          "China",
          "Colombia",
          "Congo",
          "Cook Islands",
          "Costa Rica",
          "Croatia",
          "Cuba",
          "Curaçao",
          "Cyprus",
          "Czechia",
          "DRC",
          "Denmark",
          "Djibouti",
          "Dominica",
          "Dominican Republic",
          "Ecuador",
          "Egypt",
          "El Salvador",
          "Equatorial Guinea",
          "Eritrea",
          "Estonia",
          "Eswatini",
          "Ethiopia",
          "Faeroe Islands",
          "Falkland Islands",
          "Fiji",
          "Finland",
          "France",
          "French Guiana",
          "Gabon",
          "Gambia",
          "Georgia",
          "Germany",
          "Ghana",
          "Gibraltar",
          "Greece",
          "Greenland",
          "Grenada",
          "Guadeloupe",
          "Guatemala",
          "Guinea",
          "Guinea-Bissau",
          "Guyana",
          "Haiti",
          "Honduras",
          "Hong Kong",
          "Hungary",
          "Iceland",
          "India",
          "Indonesia",
          "Iran",
          "Iraq",
          "Ireland",
          "Isle of Man",
          "Israel",
          "Italy",
          "Ivory Coast",
          "Jamaica",
          "Japan",
          "Jordan",
          "Kazakhstan",
          "Kenya",
          "Kuwait",
          "Kyrgyzstan",
          "Laos",
          "Latvia",
          "Lebanon",
          "Lesotho",
          "Liberia",
          "Libya",
          "Liechtenstein",
          "Lithuania",
          "Luxembourg",
          "Macao",
          "Madagascar",
          "Malawi",
          "Malaysia",
          "Maldives",
          "Mali",
          "Malta",
          "Martinique",
          "Mauritania",
          "Mauritius",
          "Mayotte",
          "Mexico",
          "Moldova",
          "Monaco",
          "Mongolia",
          "Montenegro",
          "Montserrat",
          "Morocco",
          "Mozambique",
          "Myanmar",
          "Namibia",
          "Nepal",
          "Netherlands",
          "New Caledonia",
          "New Zealand",
          "Niger",
          "Nigeria",
          "North Macedonia",
          "Norway",
          "Oman",
          "Pakistan",
          "Palau",
          "Palestine",
          "Panama",
          "Papua New Guinea",
          "Paraguay",
          "Peru",
          "Philippines",
          "Poland",
          "Portugal",
          "Qatar",
          "Romania",
          "Russia",
          "Rwanda",
          "Réunion",
          "S. Korea",
          "Saint Kitts and Nevis",
          "Saint Lucia",
          "Saint Martin",
          "Saint Pierre Miquelon",
          "San Marino",
          "Sao Tome and Principe",
          "Saudi Arabia",
          "Senegal",
          "Serbia",
          "Sierra Leone",
          "Singapore",
          "Sint Maarten",
          "Slovakia",
          "Slovenia",
          "Solomon Islands",
          "Somalia",
          "South Africa",
          "South Sudan",
          "Spain",
          "Sri Lanka",
          "St. Barth",
          "St. Vincent Grenadines",
          "Sudan",
          "Suriname",
          "Sweden",
          "Switzerland",
          "Syria",
          "Taiwan",
          "Thailand",
          "Timor-Leste",
          "Togo",
          "Tonga",
          "Trinidad and Tobago",
          "Tunisia",
          "Turkey",
          "Turks and Caicos",
          "UAE",
          "UK",
          "USA",
          "Uganda",
          "Ukraine",
          "Uruguay",
          "Uzbekistan",
          "Vanuatu",
          "Venezuela",
          "Vietnam",
          "Wallis and Futuna",
          "Yemen",
          "Zambia",
          "Zimbabwe"
         ],
         "text": [
          "Afghanistan",
          "Albania",
          "Algeria",
          "Andorra",
          "Angola",
          "Anguilla",
          "Antigua and Barbuda",
          "Argentina",
          "Armenia",
          "Aruba",
          "Australia",
          "Austria",
          "Azerbaijan",
          "Bahamas",
          "Bahrain",
          "Bangladesh",
          "Barbados",
          "Belarus",
          "Belgium",
          "Belize",
          "Benin",
          "Bermuda",
          "Bhutan",
          "Bolivia",
          "Bosnia and Herzegovina",
          "Botswana",
          "Brazil",
          "British Virgin Islands",
          "Brunei ",
          "Bulgaria",
          "Burkina Faso",
          "Burundi",
          "CAR",
          "Cabo Verde",
          "Cambodia",
          "Cameroon",
          "Canada",
          "Caribbean Netherlands",
          "Cayman Islands",
          "Chad",
          "Channel Islands",
          "Chile",
          "China",
          "Colombia",
          "Congo",
          "Cook Islands",
          "Costa Rica",
          "Croatia",
          "Cuba",
          "Curaçao",
          "Cyprus",
          "Czechia",
          "DRC",
          "Denmark",
          "Djibouti",
          "Dominica",
          "Dominican Republic",
          "Ecuador",
          "Egypt",
          "El Salvador",
          "Equatorial Guinea",
          "Eritrea",
          "Estonia",
          "Eswatini",
          "Ethiopia",
          "Faeroe Islands",
          "Falkland Islands",
          "Fiji",
          "Finland",
          "France",
          "French Guiana",
          "Gabon",
          "Gambia",
          "Georgia",
          "Germany",
          "Ghana",
          "Gibraltar",
          "Greece",
          "Greenland",
          "Grenada",
          "Guadeloupe",
          "Guatemala",
          "Guinea",
          "Guinea-Bissau",
          "Guyana",
          "Haiti",
          "Honduras",
          "Hong Kong",
          "Hungary",
          "Iceland",
          "India",
          "Indonesia",
          "Iran",
          "Iraq",
          "Ireland",
          "Isle of Man",
          "Israel",
          "Italy",
          "Ivory Coast",
          "Jamaica",
          "Japan",
          "Jordan",
          "Kazakhstan",
          "Kenya",
          "Kuwait",
          "Kyrgyzstan",
          "Laos",
          "Latvia",
          "Lebanon",
          "Lesotho",
          "Liberia",
          "Libya",
          "Liechtenstein",
          "Lithuania",
          "Luxembourg",
          "Macao",
          "Madagascar",
          "Malawi",
          "Malaysia",
          "Maldives",
          "Mali",
          "Malta",
          "Martinique",
          "Mauritania",
          "Mauritius",
          "Mayotte",
          "Mexico",
          "Moldova",
          "Monaco",
          "Mongolia",
          "Montenegro",
          "Montserrat",
          "Morocco",
          "Mozambique",
          "Myanmar",
          "Namibia",
          "Nepal",
          "Netherlands",
          "New Caledonia",
          "New Zealand",
          "Niger",
          "Nigeria",
          "North Macedonia",
          "Norway",
          "Oman",
          "Pakistan",
          "Palau",
          "Palestine",
          "Panama",
          "Papua New Guinea",
          "Paraguay",
          "Peru",
          "Philippines",
          "Poland",
          "Portugal",
          "Qatar",
          "Romania",
          "Russia",
          "Rwanda",
          "Réunion",
          "S. Korea",
          "Saint Kitts and Nevis",
          "Saint Lucia",
          "Saint Martin",
          "Saint Pierre Miquelon",
          "San Marino",
          "Sao Tome and Principe",
          "Saudi Arabia",
          "Senegal",
          "Serbia",
          "Sierra Leone",
          "Singapore",
          "Sint Maarten",
          "Slovakia",
          "Slovenia",
          "Solomon Islands",
          "Somalia",
          "South Africa",
          "South Sudan",
          "Spain",
          "Sri Lanka",
          "St. Barth",
          "St. Vincent Grenadines",
          "Sudan",
          "Suriname",
          "Sweden",
          "Switzerland",
          "Syria",
          "Taiwan",
          "Thailand",
          "Timor-Leste",
          "Togo",
          "Tonga",
          "Trinidad and Tobago",
          "Tunisia",
          "Turkey",
          "Turks and Caicos",
          "UAE",
          "UK",
          "USA",
          "Uganda",
          "Ukraine",
          "Uruguay",
          "Uzbekistan",
          "Vanuatu",
          "Venezuela",
          "Vietnam",
          "Wallis and Futuna",
          "Yemen",
          "Zambia",
          "Zimbabwe"
         ],
         "type": "choropleth",
         "z": [
          10157,
          819,
          80518,
          717,
          170,
          13,
          14,
          67545,
          5036,
          62,
          267631,
          384363,
          1739,
          315,
          13691,
          59489,
          1150,
          5971,
          253829,
          531,
          906,
          224,
          4086,
          68746,
          165452,
          1897,
          971313,
          null,
          33586,
          198844,
          67,
          37437,
          7348,
          59,
          2053,
          133,
          112933,
          36,
          10863,
          2194,
          3777,
          754560,
          7230,
          29129,
          3493,
          243,
          96497,
          9830,
          2585,
          434,
          227730,
          71223,
          34050,
          191378,
          14,
          313,
          370,
          null,
          46265,
          19856,
          35,
          2,
          97902,
          33,
          40226,
          26516,
          null,
          1022,
          685609,
          1210091,
          66427,
          37,
          17,
          33070,
          3764470,
          159,
          326,
          196693,
          9075,
          138,
          127612,
          24783,
          2987,
          833,
          221,
          3096,
          274795,
          689652,
          119066,
          85907,
          36138,
          342896,
          204195,
          21480,
          105638,
          1070,
          41619,
          999504,
          84,
          46301,
          586559,
          68409,
          10107,
          47,
          4221,
          1908,
          138027,
          98031,
          85439,
          8558,
          1351,
          10554,
          851,
          77552,
          10882,
          3,
          3337,
          6124,
          320876,
          10674,
          121,
          1721,
          125217,
          23,
          2869,
          33594,
          390480,
          6367,
          229,
          151478,
          772,
          2,
          827,
          1026,
          28128,
          355,
          4917,
          1564211,
          3184,
          197387,
          12,
          2471,
          2091,
          1261178,
          3081,
          17961,
          325,
          4572,
          2710,
          989,
          7015,
          null,
          46537,
          527009,
          482801,
          1255,
          120972,
          1493968,
          82621,
          11419,
          null,
          3,
          41,
          8450,
          216,
          213,
          1,
          9061,
          52,
          43924,
          null,
          46069,
          57,
          130880,
          25701,
          7144,
          11870,
          18341,
          3420,
          828445,
          20758,
          null,
          2,
          null,
          28067,
          69268,
          604694,
          2292,
          1232,
          227333,
          64,
          62,
          1217,
          15445,
          19220,
          311098,
          30,
          33114,
          1138430,
          24109763,
          59795,
          null,
          9488,
          991,
          208,
          3374,
          2907692,
          9,
          775,
          1477,
          4896
         ]
        }
       ],
       "layout": {
        "geo": {
         "projection": {
          "type": "mercator"
         }
        },
        "template": {
         "data": {
          "bar": [
           {
            "error_x": {
             "color": "#2a3f5f"
            },
            "error_y": {
             "color": "#2a3f5f"
            },
            "marker": {
             "line": {
              "color": "#E5ECF6",
              "width": 0.5
             },
             "pattern": {
              "fillmode": "overlay",
              "size": 10,
              "solidity": 0.2
             }
            },
            "type": "bar"
           }
          ],
          "barpolar": [
           {
            "marker": {
             "line": {
              "color": "#E5ECF6",
              "width": 0.5
             },
             "pattern": {
              "fillmode": "overlay",
              "size": 10,
              "solidity": 0.2
             }
            },
            "type": "barpolar"
           }
          ],
          "carpet": [
           {
            "aaxis": {
             "endlinecolor": "#2a3f5f",
             "gridcolor": "white",
             "linecolor": "white",
             "minorgridcolor": "white",
             "startlinecolor": "#2a3f5f"
            },
            "baxis": {
             "endlinecolor": "#2a3f5f",
             "gridcolor": "white",
             "linecolor": "white",
             "minorgridcolor": "white",
             "startlinecolor": "#2a3f5f"
            },
            "type": "carpet"
           }
          ],
          "choropleth": [
           {
            "colorbar": {
             "outlinewidth": 0,
             "ticks": ""
            },
            "type": "choropleth"
           }
          ],
          "contour": [
           {
            "colorbar": {
             "outlinewidth": 0,
             "ticks": ""
            },
            "colorscale": [
             [
              0,
              "#0d0887"
             ],
             [
              0.1111111111111111,
              "#46039f"
             ],
             [
              0.2222222222222222,
              "#7201a8"
             ],
             [
              0.3333333333333333,
              "#9c179e"
             ],
             [
              0.4444444444444444,
              "#bd3786"
             ],
             [
              0.5555555555555556,
              "#d8576b"
             ],
             [
              0.6666666666666666,
              "#ed7953"
             ],
             [
              0.7777777777777778,
              "#fb9f3a"
             ],
             [
              0.8888888888888888,
              "#fdca26"
             ],
             [
              1,
              "#f0f921"
             ]
            ],
            "type": "contour"
           }
          ],
          "contourcarpet": [
           {
            "colorbar": {
             "outlinewidth": 0,
             "ticks": ""
            },
            "type": "contourcarpet"
           }
          ],
          "heatmap": [
           {
            "colorbar": {
             "outlinewidth": 0,
             "ticks": ""
            },
            "colorscale": [
             [
              0,
              "#0d0887"
             ],
             [
              0.1111111111111111,
              "#46039f"
             ],
             [
              0.2222222222222222,
              "#7201a8"
             ],
             [
              0.3333333333333333,
              "#9c179e"
             ],
             [
              0.4444444444444444,
              "#bd3786"
             ],
             [
              0.5555555555555556,
              "#d8576b"
             ],
             [
              0.6666666666666666,
              "#ed7953"
             ],
             [
              0.7777777777777778,
              "#fb9f3a"
             ],
             [
              0.8888888888888888,
              "#fdca26"
             ],
             [
              1,
              "#f0f921"
             ]
            ],
            "type": "heatmap"
           }
          ],
          "heatmapgl": [
           {
            "colorbar": {
             "outlinewidth": 0,
             "ticks": ""
            },
            "colorscale": [
             [
              0,
              "#0d0887"
             ],
             [
              0.1111111111111111,
              "#46039f"
             ],
             [
              0.2222222222222222,
              "#7201a8"
             ],
             [
              0.3333333333333333,
              "#9c179e"
             ],
             [
              0.4444444444444444,
              "#bd3786"
             ],
             [
              0.5555555555555556,
              "#d8576b"
             ],
             [
              0.6666666666666666,
              "#ed7953"
             ],
             [
              0.7777777777777778,
              "#fb9f3a"
             ],
             [
              0.8888888888888888,
              "#fdca26"
             ],
             [
              1,
              "#f0f921"
             ]
            ],
            "type": "heatmapgl"
           }
          ],
          "histogram": [
           {
            "marker": {
             "pattern": {
              "fillmode": "overlay",
              "size": 10,
              "solidity": 0.2
             }
            },
            "type": "histogram"
           }
          ],
          "histogram2d": [
           {
            "colorbar": {
             "outlinewidth": 0,
             "ticks": ""
            },
            "colorscale": [
             [
              0,
              "#0d0887"
             ],
             [
              0.1111111111111111,
              "#46039f"
             ],
             [
              0.2222222222222222,
              "#7201a8"
             ],
             [
              0.3333333333333333,
              "#9c179e"
             ],
             [
              0.4444444444444444,
              "#bd3786"
             ],
             [
              0.5555555555555556,
              "#d8576b"
             ],
             [
              0.6666666666666666,
              "#ed7953"
             ],
             [
              0.7777777777777778,
              "#fb9f3a"
             ],
             [
              0.8888888888888888,
              "#fdca26"
             ],
             [
              1,
              "#f0f921"
             ]
            ],
            "type": "histogram2d"
           }
          ],
          "histogram2dcontour": [
           {
            "colorbar": {
             "outlinewidth": 0,
             "ticks": ""
            },
            "colorscale": [
             [
              0,
              "#0d0887"
             ],
             [
              0.1111111111111111,
              "#46039f"
             ],
             [
              0.2222222222222222,
              "#7201a8"
             ],
             [
              0.3333333333333333,
              "#9c179e"
             ],
             [
              0.4444444444444444,
              "#bd3786"
             ],
             [
              0.5555555555555556,
              "#d8576b"
             ],
             [
              0.6666666666666666,
              "#ed7953"
             ],
             [
              0.7777777777777778,
              "#fb9f3a"
             ],
             [
              0.8888888888888888,
              "#fdca26"
             ],
             [
              1,
              "#f0f921"
             ]
            ],
            "type": "histogram2dcontour"
           }
          ],
          "mesh3d": [
           {
            "colorbar": {
             "outlinewidth": 0,
             "ticks": ""
            },
            "type": "mesh3d"
           }
          ],
          "parcoords": [
           {
            "line": {
             "colorbar": {
              "outlinewidth": 0,
              "ticks": ""
             }
            },
            "type": "parcoords"
           }
          ],
          "pie": [
           {
            "automargin": true,
            "type": "pie"
           }
          ],
          "scatter": [
           {
            "marker": {
             "colorbar": {
              "outlinewidth": 0,
              "ticks": ""
             }
            },
            "type": "scatter"
           }
          ],
          "scatter3d": [
           {
            "line": {
             "colorbar": {
              "outlinewidth": 0,
              "ticks": ""
             }
            },
            "marker": {
             "colorbar": {
              "outlinewidth": 0,
              "ticks": ""
             }
            },
            "type": "scatter3d"
           }
          ],
          "scattercarpet": [
           {
            "marker": {
             "colorbar": {
              "outlinewidth": 0,
              "ticks": ""
             }
            },
            "type": "scattercarpet"
           }
          ],
          "scattergeo": [
           {
            "marker": {
             "colorbar": {
              "outlinewidth": 0,
              "ticks": ""
             }
            },
            "type": "scattergeo"
           }
          ],
          "scattergl": [
           {
            "marker": {
             "colorbar": {
              "outlinewidth": 0,
              "ticks": ""
             }
            },
            "type": "scattergl"
           }
          ],
          "scattermapbox": [
           {
            "marker": {
             "colorbar": {
              "outlinewidth": 0,
              "ticks": ""
             }
            },
            "type": "scattermapbox"
           }
          ],
          "scatterpolar": [
           {
            "marker": {
             "colorbar": {
              "outlinewidth": 0,
              "ticks": ""
             }
            },
            "type": "scatterpolar"
           }
          ],
          "scatterpolargl": [
           {
            "marker": {
             "colorbar": {
              "outlinewidth": 0,
              "ticks": ""
             }
            },
            "type": "scatterpolargl"
           }
          ],
          "scatterternary": [
           {
            "marker": {
             "colorbar": {
              "outlinewidth": 0,
              "ticks": ""
             }
            },
            "type": "scatterternary"
           }
          ],
          "surface": [
           {
            "colorbar": {
             "outlinewidth": 0,
             "ticks": ""
            },
            "colorscale": [
             [
              0,
              "#0d0887"
             ],
             [
              0.1111111111111111,
              "#46039f"
             ],
             [
              0.2222222222222222,
              "#7201a8"
             ],
             [
              0.3333333333333333,
              "#9c179e"
             ],
             [
              0.4444444444444444,
              "#bd3786"
             ],
             [
              0.5555555555555556,
              "#d8576b"
             ],
             [
              0.6666666666666666,
              "#ed7953"
             ],
             [
              0.7777777777777778,
              "#fb9f3a"
             ],
             [
              0.8888888888888888,
              "#fdca26"
             ],
             [
              1,
              "#f0f921"
             ]
            ],
            "type": "surface"
           }
          ],
          "table": [
           {
            "cells": {
             "fill": {
              "color": "#EBF0F8"
             },
             "line": {
              "color": "white"
             }
            },
            "header": {
             "fill": {
              "color": "#C8D4E3"
             },
             "line": {
              "color": "white"
             }
            },
            "type": "table"
           }
          ]
         },
         "layout": {
          "annotationdefaults": {
           "arrowcolor": "#2a3f5f",
           "arrowhead": 0,
           "arrowwidth": 1
          },
          "autotypenumbers": "strict",
          "coloraxis": {
           "colorbar": {
            "outlinewidth": 0,
            "ticks": ""
           }
          },
          "colorscale": {
           "diverging": [
            [
             0,
             "#8e0152"
            ],
            [
             0.1,
             "#c51b7d"
            ],
            [
             0.2,
             "#de77ae"
            ],
            [
             0.3,
             "#f1b6da"
            ],
            [
             0.4,
             "#fde0ef"
            ],
            [
             0.5,
             "#f7f7f7"
            ],
            [
             0.6,
             "#e6f5d0"
            ],
            [
             0.7,
             "#b8e186"
            ],
            [
             0.8,
             "#7fbc41"
            ],
            [
             0.9,
             "#4d9221"
            ],
            [
             1,
             "#276419"
            ]
           ],
           "sequential": [
            [
             0,
             "#0d0887"
            ],
            [
             0.1111111111111111,
             "#46039f"
            ],
            [
             0.2222222222222222,
             "#7201a8"
            ],
            [
             0.3333333333333333,
             "#9c179e"
            ],
            [
             0.4444444444444444,
             "#bd3786"
            ],
            [
             0.5555555555555556,
             "#d8576b"
            ],
            [
             0.6666666666666666,
             "#ed7953"
            ],
            [
             0.7777777777777778,
             "#fb9f3a"
            ],
            [
             0.8888888888888888,
             "#fdca26"
            ],
            [
             1,
             "#f0f921"
            ]
           ],
           "sequentialminus": [
            [
             0,
             "#0d0887"
            ],
            [
             0.1111111111111111,
             "#46039f"
            ],
            [
             0.2222222222222222,
             "#7201a8"
            ],
            [
             0.3333333333333333,
             "#9c179e"
            ],
            [
             0.4444444444444444,
             "#bd3786"
            ],
            [
             0.5555555555555556,
             "#d8576b"
            ],
            [
             0.6666666666666666,
             "#ed7953"
            ],
            [
             0.7777777777777778,
             "#fb9f3a"
            ],
            [
             0.8888888888888888,
             "#fdca26"
            ],
            [
             1,
             "#f0f921"
            ]
           ]
          },
          "colorway": [
           "#636efa",
           "#EF553B",
           "#00cc96",
           "#ab63fa",
           "#FFA15A",
           "#19d3f3",
           "#FF6692",
           "#B6E880",
           "#FF97FF",
           "#FECB52"
          ],
          "font": {
           "color": "#2a3f5f"
          },
          "geo": {
           "bgcolor": "white",
           "lakecolor": "white",
           "landcolor": "#E5ECF6",
           "showlakes": true,
           "showland": true,
           "subunitcolor": "white"
          },
          "hoverlabel": {
           "align": "left"
          },
          "hovermode": "closest",
          "mapbox": {
           "style": "light"
          },
          "paper_bgcolor": "white",
          "plot_bgcolor": "#E5ECF6",
          "polar": {
           "angularaxis": {
            "gridcolor": "white",
            "linecolor": "white",
            "ticks": ""
           },
           "bgcolor": "#E5ECF6",
           "radialaxis": {
            "gridcolor": "white",
            "linecolor": "white",
            "ticks": ""
           }
          },
          "scene": {
           "xaxis": {
            "backgroundcolor": "#E5ECF6",
            "gridcolor": "white",
            "gridwidth": 2,
            "linecolor": "white",
            "showbackground": true,
            "ticks": "",
            "zerolinecolor": "white"
           },
           "yaxis": {
            "backgroundcolor": "#E5ECF6",
            "gridcolor": "white",
            "gridwidth": 2,
            "linecolor": "white",
            "showbackground": true,
            "ticks": "",
            "zerolinecolor": "white"
           },
           "zaxis": {
            "backgroundcolor": "#E5ECF6",
            "gridcolor": "white",
            "gridwidth": 2,
            "linecolor": "white",
            "showbackground": true,
            "ticks": "",
            "zerolinecolor": "white"
           }
          },
          "shapedefaults": {
           "line": {
            "color": "#2a3f5f"
           }
          },
          "ternary": {
           "aaxis": {
            "gridcolor": "white",
            "linecolor": "white",
            "ticks": ""
           },
           "baxis": {
            "gridcolor": "white",
            "linecolor": "white",
            "ticks": ""
           },
           "bgcolor": "#E5ECF6",
           "caxis": {
            "gridcolor": "white",
            "linecolor": "white",
            "ticks": ""
           }
          },
          "title": {
           "x": 0.05
          },
          "xaxis": {
           "automargin": true,
           "gridcolor": "white",
           "linecolor": "white",
           "ticks": "",
           "title": {
            "standoff": 15
           },
           "zerolinecolor": "white",
           "zerolinewidth": 2
          },
          "yaxis": {
           "automargin": true,
           "gridcolor": "white",
           "linecolor": "white",
           "ticks": "",
           "title": {
            "standoff": 15
           },
           "zerolinecolor": "white",
           "zerolinewidth": 2
          }
         }
        },
        "title": {
         "text": "Số lượng ca nhiễm hiện tại trên thế giới"
        }
       }
      },
      "text/html": [
       "<div>                            <div id=\"b8dcb147-8bf6-44ec-acb3-9b435074b6f0\" class=\"plotly-graph-div\" style=\"height:525px; width:100%;\"></div>            <script type=\"text/javascript\">                require([\"plotly\"], function(Plotly) {                    window.PLOTLYENV=window.PLOTLYENV || {};                                    if (document.getElementById(\"b8dcb147-8bf6-44ec-acb3-9b435074b6f0\")) {                    Plotly.newPlot(                        \"b8dcb147-8bf6-44ec-acb3-9b435074b6f0\",                        [{\"colorbar\":{\"title\":{\"text\":\"ActiveCases\"}},\"colorscale\":[[0.0,\"rgb(0, 0, 0)\"],[0.09090909090909091,\"rgb(16, 16, 16)\"],[0.18181818181818182,\"rgb(38, 38, 38)\"],[0.2727272727272727,\"rgb(59, 59, 59)\"],[0.36363636363636365,\"rgb(81, 80, 80)\"],[0.45454545454545453,\"rgb(102, 101, 101)\"],[0.5454545454545454,\"rgb(124, 123, 122)\"],[0.6363636363636364,\"rgb(146, 146, 145)\"],[0.7272727272727273,\"rgb(171, 171, 170)\"],[0.8181818181818182,\"rgb(197, 197, 195)\"],[0.9090909090909091,\"rgb(224, 224, 223)\"],[1.0,\"rgb(254, 254, 253)\"]],\"locationmode\":\"country names\",\"locations\":[\"Afghanistan\",\"Albania\",\"Algeria\",\"Andorra\",\"Angola\",\"Anguilla\",\"Antigua and Barbuda\",\"Argentina\",\"Armenia\",\"Aruba\",\"Australia\",\"Austria\",\"Azerbaijan\",\"Bahamas\",\"Bahrain\",\"Bangladesh\",\"Barbados\",\"Belarus\",\"Belgium\",\"Belize\",\"Benin\",\"Bermuda\",\"Bhutan\",\"Bolivia\",\"Bosnia and Herzegovina\",\"Botswana\",\"Brazil\",\"British Virgin Islands\",\"Brunei \",\"Bulgaria\",\"Burkina Faso\",\"Burundi\",\"CAR\",\"Cabo Verde\",\"Cambodia\",\"Cameroon\",\"Canada\",\"Caribbean Netherlands\",\"Cayman Islands\",\"Chad\",\"Channel Islands\",\"Chile\",\"China\",\"Colombia\",\"Congo\",\"Cook Islands\",\"Costa Rica\",\"Croatia\",\"Cuba\",\"Cura\\u00e7ao\",\"Cyprus\",\"Czechia\",\"DRC\",\"Denmark\",\"Djibouti\",\"Dominica\",\"Dominican Republic\",\"Ecuador\",\"Egypt\",\"El Salvador\",\"Equatorial Guinea\",\"Eritrea\",\"Estonia\",\"Eswatini\",\"Ethiopia\",\"Faeroe Islands\",\"Falkland Islands\",\"Fiji\",\"Finland\",\"France\",\"French Guiana\",\"Gabon\",\"Gambia\",\"Georgia\",\"Germany\",\"Ghana\",\"Gibraltar\",\"Greece\",\"Greenland\",\"Grenada\",\"Guadeloupe\",\"Guatemala\",\"Guinea\",\"Guinea-Bissau\",\"Guyana\",\"Haiti\",\"Honduras\",\"Hong Kong\",\"Hungary\",\"Iceland\",\"India\",\"Indonesia\",\"Iran\",\"Iraq\",\"Ireland\",\"Isle of Man\",\"Israel\",\"Italy\",\"Ivory Coast\",\"Jamaica\",\"Japan\",\"Jordan\",\"Kazakhstan\",\"Kenya\",\"Kuwait\",\"Kyrgyzstan\",\"Laos\",\"Latvia\",\"Lebanon\",\"Lesotho\",\"Liberia\",\"Libya\",\"Liechtenstein\",\"Lithuania\",\"Luxembourg\",\"Macao\",\"Madagascar\",\"Malawi\",\"Malaysia\",\"Maldives\",\"Mali\",\"Malta\",\"Martinique\",\"Mauritania\",\"Mauritius\",\"Mayotte\",\"Mexico\",\"Moldova\",\"Monaco\",\"Mongolia\",\"Montenegro\",\"Montserrat\",\"Morocco\",\"Mozambique\",\"Myanmar\",\"Namibia\",\"Nepal\",\"Netherlands\",\"New Caledonia\",\"New Zealand\",\"Niger\",\"Nigeria\",\"North Macedonia\",\"Norway\",\"Oman\",\"Pakistan\",\"Palau\",\"Palestine\",\"Panama\",\"Papua New Guinea\",\"Paraguay\",\"Peru\",\"Philippines\",\"Poland\",\"Portugal\",\"Qatar\",\"Romania\",\"Russia\",\"Rwanda\",\"R\\u00e9union\",\"S. Korea\",\"Saint Kitts and Nevis\",\"Saint Lucia\",\"Saint Martin\",\"Saint Pierre Miquelon\",\"San Marino\",\"Sao Tome and Principe\",\"Saudi Arabia\",\"Senegal\",\"Serbia\",\"Sierra Leone\",\"Singapore\",\"Sint Maarten\",\"Slovakia\",\"Slovenia\",\"Solomon Islands\",\"Somalia\",\"South Africa\",\"South Sudan\",\"Spain\",\"Sri Lanka\",\"St. Barth\",\"St. Vincent Grenadines\",\"Sudan\",\"Suriname\",\"Sweden\",\"Switzerland\",\"Syria\",\"Taiwan\",\"Thailand\",\"Timor-Leste\",\"Togo\",\"Tonga\",\"Trinidad and Tobago\",\"Tunisia\",\"Turkey\",\"Turks and Caicos\",\"UAE\",\"UK\",\"USA\",\"Uganda\",\"Ukraine\",\"Uruguay\",\"Uzbekistan\",\"Vanuatu\",\"Venezuela\",\"Vietnam\",\"Wallis and Futuna\",\"Yemen\",\"Zambia\",\"Zimbabwe\"],\"text\":[\"Afghanistan\",\"Albania\",\"Algeria\",\"Andorra\",\"Angola\",\"Anguilla\",\"Antigua and Barbuda\",\"Argentina\",\"Armenia\",\"Aruba\",\"Australia\",\"Austria\",\"Azerbaijan\",\"Bahamas\",\"Bahrain\",\"Bangladesh\",\"Barbados\",\"Belarus\",\"Belgium\",\"Belize\",\"Benin\",\"Bermuda\",\"Bhutan\",\"Bolivia\",\"Bosnia and Herzegovina\",\"Botswana\",\"Brazil\",\"British Virgin Islands\",\"Brunei \",\"Bulgaria\",\"Burkina Faso\",\"Burundi\",\"CAR\",\"Cabo Verde\",\"Cambodia\",\"Cameroon\",\"Canada\",\"Caribbean Netherlands\",\"Cayman Islands\",\"Chad\",\"Channel Islands\",\"Chile\",\"China\",\"Colombia\",\"Congo\",\"Cook Islands\",\"Costa Rica\",\"Croatia\",\"Cuba\",\"Cura\\u00e7ao\",\"Cyprus\",\"Czechia\",\"DRC\",\"Denmark\",\"Djibouti\",\"Dominica\",\"Dominican Republic\",\"Ecuador\",\"Egypt\",\"El Salvador\",\"Equatorial Guinea\",\"Eritrea\",\"Estonia\",\"Eswatini\",\"Ethiopia\",\"Faeroe Islands\",\"Falkland Islands\",\"Fiji\",\"Finland\",\"France\",\"French Guiana\",\"Gabon\",\"Gambia\",\"Georgia\",\"Germany\",\"Ghana\",\"Gibraltar\",\"Greece\",\"Greenland\",\"Grenada\",\"Guadeloupe\",\"Guatemala\",\"Guinea\",\"Guinea-Bissau\",\"Guyana\",\"Haiti\",\"Honduras\",\"Hong Kong\",\"Hungary\",\"Iceland\",\"India\",\"Indonesia\",\"Iran\",\"Iraq\",\"Ireland\",\"Isle of Man\",\"Israel\",\"Italy\",\"Ivory Coast\",\"Jamaica\",\"Japan\",\"Jordan\",\"Kazakhstan\",\"Kenya\",\"Kuwait\",\"Kyrgyzstan\",\"Laos\",\"Latvia\",\"Lebanon\",\"Lesotho\",\"Liberia\",\"Libya\",\"Liechtenstein\",\"Lithuania\",\"Luxembourg\",\"Macao\",\"Madagascar\",\"Malawi\",\"Malaysia\",\"Maldives\",\"Mali\",\"Malta\",\"Martinique\",\"Mauritania\",\"Mauritius\",\"Mayotte\",\"Mexico\",\"Moldova\",\"Monaco\",\"Mongolia\",\"Montenegro\",\"Montserrat\",\"Morocco\",\"Mozambique\",\"Myanmar\",\"Namibia\",\"Nepal\",\"Netherlands\",\"New Caledonia\",\"New Zealand\",\"Niger\",\"Nigeria\",\"North Macedonia\",\"Norway\",\"Oman\",\"Pakistan\",\"Palau\",\"Palestine\",\"Panama\",\"Papua New Guinea\",\"Paraguay\",\"Peru\",\"Philippines\",\"Poland\",\"Portugal\",\"Qatar\",\"Romania\",\"Russia\",\"Rwanda\",\"R\\u00e9union\",\"S. Korea\",\"Saint Kitts and Nevis\",\"Saint Lucia\",\"Saint Martin\",\"Saint Pierre Miquelon\",\"San Marino\",\"Sao Tome and Principe\",\"Saudi Arabia\",\"Senegal\",\"Serbia\",\"Sierra Leone\",\"Singapore\",\"Sint Maarten\",\"Slovakia\",\"Slovenia\",\"Solomon Islands\",\"Somalia\",\"South Africa\",\"South Sudan\",\"Spain\",\"Sri Lanka\",\"St. Barth\",\"St. Vincent Grenadines\",\"Sudan\",\"Suriname\",\"Sweden\",\"Switzerland\",\"Syria\",\"Taiwan\",\"Thailand\",\"Timor-Leste\",\"Togo\",\"Tonga\",\"Trinidad and Tobago\",\"Tunisia\",\"Turkey\",\"Turks and Caicos\",\"UAE\",\"UK\",\"USA\",\"Uganda\",\"Ukraine\",\"Uruguay\",\"Uzbekistan\",\"Vanuatu\",\"Venezuela\",\"Vietnam\",\"Wallis and Futuna\",\"Yemen\",\"Zambia\",\"Zimbabwe\"],\"z\":[10157.0,819.0,80518.0,717.0,170.0,13.0,14.0,67545.0,5036.0,62.0,267631.0,384363.0,1739.0,315.0,13691.0,59489.0,1150.0,5971.0,253829.0,531.0,906.0,224.0,4086.0,68746.0,165452.0,1897.0,971313.0,null,33586.0,198844.0,67.0,37437.0,7348.0,59.0,2053.0,133.0,112933.0,36.0,10863.0,2194.0,3777.0,754560.0,7230.0,29129.0,3493.0,243.0,96497.0,9830.0,2585.0,434.0,227730.0,71223.0,34050.0,191378.0,14.0,313.0,370.0,null,46265.0,19856.0,35.0,2.0,97902.0,33.0,40226.0,26516.0,null,1022.0,685609.0,1210091.0,66427.0,37.0,17.0,33070.0,3764470.0,159.0,326.0,196693.0,9075.0,138.0,127612.0,24783.0,2987.0,833.0,221.0,3096.0,274795.0,689652.0,119066.0,85907.0,36138.0,342896.0,204195.0,21480.0,105638.0,1070.0,41619.0,999504.0,84.0,46301.0,586559.0,68409.0,10107.0,47.0,4221.0,1908.0,138027.0,98031.0,85439.0,8558.0,1351.0,10554.0,851.0,77552.0,10882.0,3.0,3337.0,6124.0,320876.0,10674.0,121.0,1721.0,125217.0,23.0,2869.0,33594.0,390480.0,6367.0,229.0,151478.0,772.0,2.0,827.0,1026.0,28128.0,355.0,4917.0,1564211.0,3184.0,197387.0,12.0,2471.0,2091.0,1261178.0,3081.0,17961.0,325.0,4572.0,2710.0,989.0,7015.0,null,46537.0,527009.0,482801.0,1255.0,120972.0,1493968.0,82621.0,11419.0,null,3.0,41.0,8450.0,216.0,213.0,1.0,9061.0,52.0,43924.0,null,46069.0,57.0,130880.0,25701.0,7144.0,11870.0,18341.0,3420.0,828445.0,20758.0,null,2.0,null,28067.0,69268.0,604694.0,2292.0,1232.0,227333.0,64.0,62.0,1217.0,15445.0,19220.0,311098.0,30.0,33114.0,1138430.0,24109763.0,59795.0,null,9488.0,991.0,208.0,3374.0,2907692.0,9.0,775.0,1477.0,4896.0],\"type\":\"choropleth\"}],                        {\"geo\":{\"projection\":{\"type\":\"mercator\"}},\"title\":{\"text\":\"S\\u1ed1 l\\u01b0\\u1ee3ng ca nhi\\u1ec5m hi\\u1ec7n t\\u1ea1i tr\\u00ean th\\u1ebf gi\\u1edbi\"},\"template\":{\"data\":{\"bar\":[{\"error_x\":{\"color\":\"#2a3f5f\"},\"error_y\":{\"color\":\"#2a3f5f\"},\"marker\":{\"line\":{\"color\":\"#E5ECF6\",\"width\":0.5},\"pattern\":{\"fillmode\":\"overlay\",\"size\":10,\"solidity\":0.2}},\"type\":\"bar\"}],\"barpolar\":[{\"marker\":{\"line\":{\"color\":\"#E5ECF6\",\"width\":0.5},\"pattern\":{\"fillmode\":\"overlay\",\"size\":10,\"solidity\":0.2}},\"type\":\"barpolar\"}],\"carpet\":[{\"aaxis\":{\"endlinecolor\":\"#2a3f5f\",\"gridcolor\":\"white\",\"linecolor\":\"white\",\"minorgridcolor\":\"white\",\"startlinecolor\":\"#2a3f5f\"},\"baxis\":{\"endlinecolor\":\"#2a3f5f\",\"gridcolor\":\"white\",\"linecolor\":\"white\",\"minorgridcolor\":\"white\",\"startlinecolor\":\"#2a3f5f\"},\"type\":\"carpet\"}],\"choropleth\":[{\"colorbar\":{\"outlinewidth\":0,\"ticks\":\"\"},\"type\":\"choropleth\"}],\"contour\":[{\"colorbar\":{\"outlinewidth\":0,\"ticks\":\"\"},\"colorscale\":[[0.0,\"#0d0887\"],[0.1111111111111111,\"#46039f\"],[0.2222222222222222,\"#7201a8\"],[0.3333333333333333,\"#9c179e\"],[0.4444444444444444,\"#bd3786\"],[0.5555555555555556,\"#d8576b\"],[0.6666666666666666,\"#ed7953\"],[0.7777777777777778,\"#fb9f3a\"],[0.8888888888888888,\"#fdca26\"],[1.0,\"#f0f921\"]],\"type\":\"contour\"}],\"contourcarpet\":[{\"colorbar\":{\"outlinewidth\":0,\"ticks\":\"\"},\"type\":\"contourcarpet\"}],\"heatmap\":[{\"colorbar\":{\"outlinewidth\":0,\"ticks\":\"\"},\"colorscale\":[[0.0,\"#0d0887\"],[0.1111111111111111,\"#46039f\"],[0.2222222222222222,\"#7201a8\"],[0.3333333333333333,\"#9c179e\"],[0.4444444444444444,\"#bd3786\"],[0.5555555555555556,\"#d8576b\"],[0.6666666666666666,\"#ed7953\"],[0.7777777777777778,\"#fb9f3a\"],[0.8888888888888888,\"#fdca26\"],[1.0,\"#f0f921\"]],\"type\":\"heatmap\"}],\"heatmapgl\":[{\"colorbar\":{\"outlinewidth\":0,\"ticks\":\"\"},\"colorscale\":[[0.0,\"#0d0887\"],[0.1111111111111111,\"#46039f\"],[0.2222222222222222,\"#7201a8\"],[0.3333333333333333,\"#9c179e\"],[0.4444444444444444,\"#bd3786\"],[0.5555555555555556,\"#d8576b\"],[0.6666666666666666,\"#ed7953\"],[0.7777777777777778,\"#fb9f3a\"],[0.8888888888888888,\"#fdca26\"],[1.0,\"#f0f921\"]],\"type\":\"heatmapgl\"}],\"histogram\":[{\"marker\":{\"pattern\":{\"fillmode\":\"overlay\",\"size\":10,\"solidity\":0.2}},\"type\":\"histogram\"}],\"histogram2d\":[{\"colorbar\":{\"outlinewidth\":0,\"ticks\":\"\"},\"colorscale\":[[0.0,\"#0d0887\"],[0.1111111111111111,\"#46039f\"],[0.2222222222222222,\"#7201a8\"],[0.3333333333333333,\"#9c179e\"],[0.4444444444444444,\"#bd3786\"],[0.5555555555555556,\"#d8576b\"],[0.6666666666666666,\"#ed7953\"],[0.7777777777777778,\"#fb9f3a\"],[0.8888888888888888,\"#fdca26\"],[1.0,\"#f0f921\"]],\"type\":\"histogram2d\"}],\"histogram2dcontour\":[{\"colorbar\":{\"outlinewidth\":0,\"ticks\":\"\"},\"colorscale\":[[0.0,\"#0d0887\"],[0.1111111111111111,\"#46039f\"],[0.2222222222222222,\"#7201a8\"],[0.3333333333333333,\"#9c179e\"],[0.4444444444444444,\"#bd3786\"],[0.5555555555555556,\"#d8576b\"],[0.6666666666666666,\"#ed7953\"],[0.7777777777777778,\"#fb9f3a\"],[0.8888888888888888,\"#fdca26\"],[1.0,\"#f0f921\"]],\"type\":\"histogram2dcontour\"}],\"mesh3d\":[{\"colorbar\":{\"outlinewidth\":0,\"ticks\":\"\"},\"type\":\"mesh3d\"}],\"parcoords\":[{\"line\":{\"colorbar\":{\"outlinewidth\":0,\"ticks\":\"\"}},\"type\":\"parcoords\"}],\"pie\":[{\"automargin\":true,\"type\":\"pie\"}],\"scatter\":[{\"marker\":{\"colorbar\":{\"outlinewidth\":0,\"ticks\":\"\"}},\"type\":\"scatter\"}],\"scatter3d\":[{\"line\":{\"colorbar\":{\"outlinewidth\":0,\"ticks\":\"\"}},\"marker\":{\"colorbar\":{\"outlinewidth\":0,\"ticks\":\"\"}},\"type\":\"scatter3d\"}],\"scattercarpet\":[{\"marker\":{\"colorbar\":{\"outlinewidth\":0,\"ticks\":\"\"}},\"type\":\"scattercarpet\"}],\"scattergeo\":[{\"marker\":{\"colorbar\":{\"outlinewidth\":0,\"ticks\":\"\"}},\"type\":\"scattergeo\"}],\"scattergl\":[{\"marker\":{\"colorbar\":{\"outlinewidth\":0,\"ticks\":\"\"}},\"type\":\"scattergl\"}],\"scattermapbox\":[{\"marker\":{\"colorbar\":{\"outlinewidth\":0,\"ticks\":\"\"}},\"type\":\"scattermapbox\"}],\"scatterpolar\":[{\"marker\":{\"colorbar\":{\"outlinewidth\":0,\"ticks\":\"\"}},\"type\":\"scatterpolar\"}],\"scatterpolargl\":[{\"marker\":{\"colorbar\":{\"outlinewidth\":0,\"ticks\":\"\"}},\"type\":\"scatterpolargl\"}],\"scatterternary\":[{\"marker\":{\"colorbar\":{\"outlinewidth\":0,\"ticks\":\"\"}},\"type\":\"scatterternary\"}],\"surface\":[{\"colorbar\":{\"outlinewidth\":0,\"ticks\":\"\"},\"colorscale\":[[0.0,\"#0d0887\"],[0.1111111111111111,\"#46039f\"],[0.2222222222222222,\"#7201a8\"],[0.3333333333333333,\"#9c179e\"],[0.4444444444444444,\"#bd3786\"],[0.5555555555555556,\"#d8576b\"],[0.6666666666666666,\"#ed7953\"],[0.7777777777777778,\"#fb9f3a\"],[0.8888888888888888,\"#fdca26\"],[1.0,\"#f0f921\"]],\"type\":\"surface\"}],\"table\":[{\"cells\":{\"fill\":{\"color\":\"#EBF0F8\"},\"line\":{\"color\":\"white\"}},\"header\":{\"fill\":{\"color\":\"#C8D4E3\"},\"line\":{\"color\":\"white\"}},\"type\":\"table\"}]},\"layout\":{\"annotationdefaults\":{\"arrowcolor\":\"#2a3f5f\",\"arrowhead\":0,\"arrowwidth\":1},\"autotypenumbers\":\"strict\",\"coloraxis\":{\"colorbar\":{\"outlinewidth\":0,\"ticks\":\"\"}},\"colorscale\":{\"diverging\":[[0,\"#8e0152\"],[0.1,\"#c51b7d\"],[0.2,\"#de77ae\"],[0.3,\"#f1b6da\"],[0.4,\"#fde0ef\"],[0.5,\"#f7f7f7\"],[0.6,\"#e6f5d0\"],[0.7,\"#b8e186\"],[0.8,\"#7fbc41\"],[0.9,\"#4d9221\"],[1,\"#276419\"]],\"sequential\":[[0.0,\"#0d0887\"],[0.1111111111111111,\"#46039f\"],[0.2222222222222222,\"#7201a8\"],[0.3333333333333333,\"#9c179e\"],[0.4444444444444444,\"#bd3786\"],[0.5555555555555556,\"#d8576b\"],[0.6666666666666666,\"#ed7953\"],[0.7777777777777778,\"#fb9f3a\"],[0.8888888888888888,\"#fdca26\"],[1.0,\"#f0f921\"]],\"sequentialminus\":[[0.0,\"#0d0887\"],[0.1111111111111111,\"#46039f\"],[0.2222222222222222,\"#7201a8\"],[0.3333333333333333,\"#9c179e\"],[0.4444444444444444,\"#bd3786\"],[0.5555555555555556,\"#d8576b\"],[0.6666666666666666,\"#ed7953\"],[0.7777777777777778,\"#fb9f3a\"],[0.8888888888888888,\"#fdca26\"],[1.0,\"#f0f921\"]]},\"colorway\":[\"#636efa\",\"#EF553B\",\"#00cc96\",\"#ab63fa\",\"#FFA15A\",\"#19d3f3\",\"#FF6692\",\"#B6E880\",\"#FF97FF\",\"#FECB52\"],\"font\":{\"color\":\"#2a3f5f\"},\"geo\":{\"bgcolor\":\"white\",\"lakecolor\":\"white\",\"landcolor\":\"#E5ECF6\",\"showlakes\":true,\"showland\":true,\"subunitcolor\":\"white\"},\"hoverlabel\":{\"align\":\"left\"},\"hovermode\":\"closest\",\"mapbox\":{\"style\":\"light\"},\"paper_bgcolor\":\"white\",\"plot_bgcolor\":\"#E5ECF6\",\"polar\":{\"angularaxis\":{\"gridcolor\":\"white\",\"linecolor\":\"white\",\"ticks\":\"\"},\"bgcolor\":\"#E5ECF6\",\"radialaxis\":{\"gridcolor\":\"white\",\"linecolor\":\"white\",\"ticks\":\"\"}},\"scene\":{\"xaxis\":{\"backgroundcolor\":\"#E5ECF6\",\"gridcolor\":\"white\",\"gridwidth\":2,\"linecolor\":\"white\",\"showbackground\":true,\"ticks\":\"\",\"zerolinecolor\":\"white\"},\"yaxis\":{\"backgroundcolor\":\"#E5ECF6\",\"gridcolor\":\"white\",\"gridwidth\":2,\"linecolor\":\"white\",\"showbackground\":true,\"ticks\":\"\",\"zerolinecolor\":\"white\"},\"zaxis\":{\"backgroundcolor\":\"#E5ECF6\",\"gridcolor\":\"white\",\"gridwidth\":2,\"linecolor\":\"white\",\"showbackground\":true,\"ticks\":\"\",\"zerolinecolor\":\"white\"}},\"shapedefaults\":{\"line\":{\"color\":\"#2a3f5f\"}},\"ternary\":{\"aaxis\":{\"gridcolor\":\"white\",\"linecolor\":\"white\",\"ticks\":\"\"},\"baxis\":{\"gridcolor\":\"white\",\"linecolor\":\"white\",\"ticks\":\"\"},\"bgcolor\":\"#E5ECF6\",\"caxis\":{\"gridcolor\":\"white\",\"linecolor\":\"white\",\"ticks\":\"\"}},\"title\":{\"x\":0.05},\"xaxis\":{\"automargin\":true,\"gridcolor\":\"white\",\"linecolor\":\"white\",\"ticks\":\"\",\"title\":{\"standoff\":15},\"zerolinecolor\":\"white\",\"zerolinewidth\":2},\"yaxis\":{\"automargin\":true,\"gridcolor\":\"white\",\"linecolor\":\"white\",\"ticks\":\"\",\"title\":{\"standoff\":15},\"zerolinecolor\":\"white\",\"zerolinewidth\":2}}}},                        {\"responsive\": true}                    ).then(function(){\n",
       "                            \n",
       "var gd = document.getElementById('b8dcb147-8bf6-44ec-acb3-9b435074b6f0');\n",
       "var x = new MutationObserver(function (mutations, observer) {{\n",
       "        var display = window.getComputedStyle(gd).display;\n",
       "        if (!display || display === 'none') {{\n",
       "            console.log([gd, 'removed!']);\n",
       "            Plotly.purge(gd);\n",
       "            observer.disconnect();\n",
       "        }}\n",
       "}});\n",
       "\n",
       "// Listen for the removal of the full notebook cells\n",
       "var notebookContainer = gd.closest('#notebook-container');\n",
       "if (notebookContainer) {{\n",
       "    x.observe(notebookContainer, {childList: true});\n",
       "}}\n",
       "\n",
       "// Listen for the clearing of the current output cell\n",
       "var outputEl = gd.closest('.output');\n",
       "if (outputEl) {{\n",
       "    x.observe(outputEl, {childList: true});\n",
       "}}\n",
       "\n",
       "                        })                };                });            </script>        </div>"
      ]
     },
     "metadata": {},
     "output_type": "display_data"
    },
    {
     "data": {
      "text/plain": [
       "<Figure size 720x720 with 0 Axes>"
      ]
     },
     "metadata": {},
     "output_type": "display_data"
    }
   ],
   "source": [
    "plt.figure(figsize=(10, 10))\n",
    "layout = dict(title = 'Số lượng ca nhiễm hiện tại trên thế giới',\n",
    "              geo = dict(projection = {'type':'mercator'})\n",
    "             )\n",
    "\n",
    "choromap = go.Figure(data = [data],layout = layout)\n",
    "iplot(choromap,validate=False)"
   ]
  },
  {
   "cell_type": "markdown",
   "id": "e4c13a36",
   "metadata": {},
   "source": [
    "**Nhận xét:** Dựa vào map của ở trên ta thấy người bị nhiễm Covid-19 trên thế giới rất lớn và phủ khắp trên thế giới cho thấy mức độ lây loan mạnh mẽ của con viruss này"
   ]
  },
  {
   "cell_type": "markdown",
   "id": "37ef4bca",
   "metadata": {},
   "source": [
    "### 5.  Tiến hành xem mối quan hệ tương quan giữa các biến thông qua `heatmap`"
   ]
  },
  {
   "cell_type": "code",
   "execution_count": 18,
   "id": "e854664f",
   "metadata": {},
   "outputs": [
    {
     "data": {
      "text/plain": [
       "<AxesSubplot:>"
      ]
     },
     "execution_count": 18,
     "metadata": {},
     "output_type": "execute_result"
    },
    {
     "data": {
      "image/png": "[encoded data removed]",
      "text/plain": [
       "<Figure size 2160x1080 with 2 Axes>"
      ]
     },
     "metadata": {
      "needs_background": "light"
     },
     "output_type": "display_data"
    }
   ],
   "source": [
    "d = data_covid.corr(method='pearson')\n",
    "f, ax = plt.subplots(figsize=(30, 15))\n",
    "sns.heatmap(d, ax=ax, cmap=\"Greys\", annot=True)"
   ]
  },
  {
   "cell_type": "markdown",
   "id": "656ec0f8",
   "metadata": {},
   "source": [
    "**Nhận xét:** Dựa vào heatMap ta thấy bộ 3 `TotalCases`, `TotalDeaths` và `TotalRecovered` có mối quan hệ tương quan chặc chẽ với nhau với hệ số tương quan cao ngất ngưỡng."
   ]
  },
  {
   "cell_type": "code",
   "execution_count": 19,
   "id": "96fa3795",
   "metadata": {},
   "outputs": [
    {
     "data": {
      "image/png": "[encoded data removed]",
      "text/plain": [
       "<Figure size 1080x576 with 2 Axes>"
      ]
     },
     "metadata": {
      "needs_background": "light"
     },
     "output_type": "display_data"
    }
   ],
   "source": [
    "figure, (ax1, ax2) = plt.subplots(1, 2, figsize=(15, 8))\n",
    "\n",
    "figure.suptitle('Biểu đồ phân tán giữa 2 thuộc tính')\n",
    "# Add title\n",
    "ax1.scatter(data_covid['TotalDeaths'], data_covid['TotalCases'], c =\"blue\", s=10)\n",
    "ax1.set_xlabel(\"TotalDeaths\")\n",
    "ax1.set_ylabel(\"TotalCases\")\n",
    "\n",
    "ax2.scatter(data_covid['TotalCases'],data_covid['TotalRecovered'], c =\"blue\", s=10)\n",
    "ax2.set_xlabel(\"TotalCases\")\n",
    "ax2.set_ylabel(\"TotalRecovered\")\n",
    "\n",
    "plt.show()"
   ]
  },
  {
   "cell_type": "markdown",
   "id": "98ce0c53",
   "metadata": {},
   "source": [
    "**Nhận xét:** Ở 2 biểu đồ ta dễ dàng nhận ra khi các cặp thuộc tính gần như có mối quan hệ tuyến tính. Khi thuộc tích `TotalCases` tăng thì `TotalRecovred` và `TotalDeaths` cũng tăng theo. Cũng dễ hiểu ở tình huống này vì khi 1 người bị nhiễm bệnh chỉ xảy ra 1 trong 2 trường hơp khỏi bệnh hoặc không qua khỏi."
   ]
  },
  {
   "cell_type": "code",
   "execution_count": 20,
   "id": "cebeba41",
   "metadata": {},
   "outputs": [
    {
     "data": {
      "image/png": "[encoded data removed]",
      "text/plain": [
       "<Figure size 720x480 with 1 Axes>"
      ]
     },
     "metadata": {
      "needs_background": "light"
     },
     "output_type": "display_data"
    }
   ],
   "source": [
    "plt.figure(dpi=120)\n",
    "plt.scatter( data_covid[\"TotalTests\"], data_covid[\"TotalCases\"], c =\"blue\", s=10)\n",
    "plt.xlabel(\"TotalTests\")\n",
    "plt.ylabel(\"TotalCases\")\n",
    "plt.title(\"Biểu đồ phân tán giữa TotalCases và TotalTests\")\n",
    "plt.show()"
   ]
  },
  {
   "cell_type": "markdown",
   "id": "685502a3",
   "metadata": {},
   "source": [
    "**Nhận xét:** Ta có hệ số tương quan `0.89` khá cao và nhìn vào biểu đồ jointplot ta thấy có mối quan hệ đồng biến. Khi ta tăng `TotalTests` thì qua đó `TotalCases` đồng thời tăng theo. Điều đó có nghĩa là khi người được test `covid-19` tăng lên qua đó phát hiện ra nhiều người bị mắc `Covid-19` trong cộng đồng. Đồng thời cũng giải thích lý do tại sao ở `Việt Nam` khi dịch bùng phát mạnh ở thành phố hồ chí mình thì bộ y tế đã ra sức tạo ra nhiều đợt test Covid-19 ở mỗi địa phương, qua đó hi vọng có thể phát hiện sớm người mắc Covid-19 để có thể dập dịch tốt hơn."
   ]
  },
  {
   "cell_type": "markdown",
   "id": "75dfb917",
   "metadata": {},
   "source": [
    "## Tổng kết"
   ]
  },
  {
   "cell_type": "markdown",
   "id": "5c515718",
   "metadata": {},
   "source": [
    "#### - Độ nguy hiểm và tốc độ lây loan nhanh của Covid 19 vượt trội so với 3 loại dịch bệnh trước đây. \n",
    "#### - Châu Âu có số ca nhiễm cao nhất chiếm hơn 1/3 thế giới và lý do Châu Âu có số ca nhiễm cao như vậy là do trong châu âu có 8 nước nằm trong top20 có số ca nhiễm cao nhất điều đó dẫn tới tổng số ca nhiễm ở cả Châu Âu tăng cao\n",
    "#### - Nước Mĩ có số ca nhiễm và tử vong cao nhất thế giới,và vượt trột với các nước còn lại trên thế giới\n",
    "#### - Tuy Mĩ có số ca nhiễm cao nhất thế giới nhưng Pháp lại là top1 về số ca nhiễm trên 1 triệu dân số\n",
    "#### - Tồn tại mối quan hệ nhân quả: khi số lượng ca nhiễm tăng thì số lượng ca tử vong và hồi phục đều tăng theo \n",
    "#### - Việt Nam giai đoạn đầu trong bùng phát dịch bệnh trên thế giới là nằm trong nhóm quốc gia phòng chống dịch tốt nhất nhưng dựa vào bảng số liệu ngày 13/03/2022 thì Việt Nam lại nằm trong Top20 nước có số ca nhiễm cao nhất "
   ]
  },
  {
   "cell_type": "code",
   "execution_count": null,
   "id": "9b5c4c19",
   "metadata": {},
   "outputs": [],
   "source": []
  }
 ],
 "metadata": {
  "kernelspec": {
   "display_name": "Python 3",
   "language": "python",
   "name": "python3"
  },
  "language_info": {
   "codemirror_mode": {
    "name": "ipython",
    "version": 3
   },
   "file_extension": ".py",
   "mimetype": "text/x-python",
   "name": "python",
   "nbconvert_exporter": "python",
   "pygments_lexer": "ipython3",
   "version": "3.8.8"
  }
 },
 "nbformat": 4,
 "nbformat_minor": 5
}
